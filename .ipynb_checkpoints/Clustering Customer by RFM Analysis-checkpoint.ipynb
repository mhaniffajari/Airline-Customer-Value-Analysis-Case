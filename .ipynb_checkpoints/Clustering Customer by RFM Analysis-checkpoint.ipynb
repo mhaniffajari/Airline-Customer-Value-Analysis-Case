{
 "cells": [
  {
   "cell_type": "markdown",
   "id": "66a48a47-3a4b-48f0-a9ce-1d765cb41bc1",
   "metadata": {
    "jp-MarkdownHeadingCollapsed": true,
    "tags": []
   },
   "source": [
    "# Import Libraries"
   ]
  },
  {
   "cell_type": "code",
   "execution_count": 1,
   "id": "22689017-6bba-481b-8f0e-842645faa974",
   "metadata": {},
   "outputs": [],
   "source": [
    "import numpy as np\n",
    "import pandas as pd\n",
    "import matplotlib.pyplot as plt\n",
    "import seaborn as sns\n",
    "from scipy import stats\n",
    "import warnings\n",
    "warnings.filterwarnings(\"ignore\")"
   ]
  },
  {
   "cell_type": "code",
   "execution_count": 2,
   "id": "e35ff010-7035-4383-a63f-21bafe57ce45",
   "metadata": {},
   "outputs": [],
   "source": [
    "df = pd.read_csv('flight.csv')"
   ]
  },
  {
   "cell_type": "code",
   "execution_count": 4,
   "id": "c5b6f1cb-0a4c-4cfd-90cb-8a6411115047",
   "metadata": {},
   "outputs": [],
   "source": [
    "def preprocessing(df):\n",
    "    \"\"\"\"\n",
    "    Objective :\n",
    "    Function for preprocessing data, known missing, duplicated values and basic stastics every column in dataframe and duplicated row\n",
    "    df is dataframe\n",
    "    \"\"\"\n",
    "    try:\n",
    "        import pandas as pd\n",
    "        variables = pd.DataFrame(columns=['Variable','Number of unique values','Percent of Null(%)','Number of Null','Type','Values'])\n",
    "        for i, var in enumerate(df.columns):\n",
    "            variables.loc[i] = [var, df[var].nunique(),df[var].isnull().sum()/df.shape[0]*100,df[var].isnull().sum(),df[var].dtypes,df[var].unique()]\n",
    "        return (variables.set_index('Variable'))\n",
    "    except:\n",
    "        print('ada kesalahan penginputan')"
   ]
  },
  {
   "cell_type": "markdown",
   "id": "ee5e3e9c-bd35-4529-8ea3-519450e045da",
   "metadata": {
    "jp-MarkdownHeadingCollapsed": true,
    "tags": []
   },
   "source": [
    "# Exploratory Data Analysis"
   ]
  },
  {
   "cell_type": "markdown",
   "id": "d7b00653-8c53-473c-9bc4-5df061cbe881",
   "metadata": {
    "tags": []
   },
   "source": [
    "## Checking Duplicated Data"
   ]
  },
  {
   "cell_type": "code",
   "execution_count": 5,
   "id": "6a7dc216-b656-4873-b871-47dc15cbf41b",
   "metadata": {},
   "outputs": [
    {
     "data": {
      "text/plain": [
       "0"
      ]
     },
     "execution_count": 5,
     "metadata": {},
     "output_type": "execute_result"
    }
   ],
   "source": [
    "df.duplicated().sum()"
   ]
  },
  {
   "cell_type": "code",
   "execution_count": 6,
   "id": "ae3454aa-7dc3-4ef9-bfb0-f2767a89e68a",
   "metadata": {},
   "outputs": [
    {
     "data": {
      "text/plain": [
       "0"
      ]
     },
     "execution_count": 6,
     "metadata": {},
     "output_type": "execute_result"
    }
   ],
   "source": [
    "df.duplicated(subset='MEMBER_NO').sum()"
   ]
  },
  {
   "cell_type": "markdown",
   "id": "c1473b20-2614-4b2d-a4ec-e5e07aedae14",
   "metadata": {
    "tags": []
   },
   "source": [
    "## Checking Null Values"
   ]
  },
  {
   "cell_type": "code",
   "execution_count": 7,
   "id": "a93b28b1-cd01-4a74-b926-ff0bc3f11419",
   "metadata": {
    "tags": []
   },
   "outputs": [
    {
     "data": {
      "text/html": [
       "<div>\n",
       "<style scoped>\n",
       "    .dataframe tbody tr th:only-of-type {\n",
       "        vertical-align: middle;\n",
       "    }\n",
       "\n",
       "    .dataframe tbody tr th {\n",
       "        vertical-align: top;\n",
       "    }\n",
       "\n",
       "    .dataframe thead th {\n",
       "        text-align: right;\n",
       "    }\n",
       "</style>\n",
       "<table border=\"1\" class=\"dataframe\">\n",
       "  <thead>\n",
       "    <tr style=\"text-align: right;\">\n",
       "      <th></th>\n",
       "      <th>Number of unique values</th>\n",
       "      <th>Percent of Null(%)</th>\n",
       "      <th>Number of Null</th>\n",
       "      <th>Type</th>\n",
       "      <th>Values</th>\n",
       "    </tr>\n",
       "    <tr>\n",
       "      <th>Variable</th>\n",
       "      <th></th>\n",
       "      <th></th>\n",
       "      <th></th>\n",
       "      <th></th>\n",
       "      <th></th>\n",
       "    </tr>\n",
       "  </thead>\n",
       "  <tbody>\n",
       "    <tr>\n",
       "      <th>MEMBER_NO</th>\n",
       "      <td>62988</td>\n",
       "      <td>0.000000</td>\n",
       "      <td>0</td>\n",
       "      <td>int64</td>\n",
       "      <td>[54993, 28065, 55106, 21189, 39546, 56972, 449...</td>\n",
       "    </tr>\n",
       "    <tr>\n",
       "      <th>FFP_DATE</th>\n",
       "      <td>3068</td>\n",
       "      <td>0.000000</td>\n",
       "      <td>0</td>\n",
       "      <td>object</td>\n",
       "      <td>[11/2/2006, 2/19/2007, 2/1/2007, 8/22/2008, 4/...</td>\n",
       "    </tr>\n",
       "    <tr>\n",
       "      <th>FIRST_FLIGHT_DATE</th>\n",
       "      <td>3406</td>\n",
       "      <td>0.000000</td>\n",
       "      <td>0</td>\n",
       "      <td>object</td>\n",
       "      <td>[12/24/2008, 8/3/2007, 8/30/2007, 8/23/2008, 4...</td>\n",
       "    </tr>\n",
       "    <tr>\n",
       "      <th>GENDER</th>\n",
       "      <td>2</td>\n",
       "      <td>0.004763</td>\n",
       "      <td>3</td>\n",
       "      <td>object</td>\n",
       "      <td>[Male, Female, nan]</td>\n",
       "    </tr>\n",
       "    <tr>\n",
       "      <th>FFP_TIER</th>\n",
       "      <td>3</td>\n",
       "      <td>0.000000</td>\n",
       "      <td>0</td>\n",
       "      <td>int64</td>\n",
       "      <td>[6, 5, 4]</td>\n",
       "    </tr>\n",
       "    <tr>\n",
       "      <th>WORK_CITY</th>\n",
       "      <td>3234</td>\n",
       "      <td>3.602273</td>\n",
       "      <td>2269</td>\n",
       "      <td>object</td>\n",
       "      <td>[., nan, Los Angeles, guiyang, guangzhou, wulu...</td>\n",
       "    </tr>\n",
       "    <tr>\n",
       "      <th>WORK_PROVINCE</th>\n",
       "      <td>1165</td>\n",
       "      <td>5.156538</td>\n",
       "      <td>3248</td>\n",
       "      <td>object</td>\n",
       "      <td>[beijing, CA, guizhou, guangdong, xinjiang, zh...</td>\n",
       "    </tr>\n",
       "    <tr>\n",
       "      <th>WORK_COUNTRY</th>\n",
       "      <td>118</td>\n",
       "      <td>0.041278</td>\n",
       "      <td>26</td>\n",
       "      <td>object</td>\n",
       "      <td>[CN, US, FR, AN, JP, HK, MY, AU, NL, MX, CA, K...</td>\n",
       "    </tr>\n",
       "    <tr>\n",
       "      <th>AGE</th>\n",
       "      <td>84</td>\n",
       "      <td>0.666794</td>\n",
       "      <td>420</td>\n",
       "      <td>float64</td>\n",
       "      <td>[31.0, 42.0, 40.0, 64.0, 48.0, 46.0, 50.0, 43....</td>\n",
       "    </tr>\n",
       "    <tr>\n",
       "      <th>LOAD_TIME</th>\n",
       "      <td>1</td>\n",
       "      <td>0.000000</td>\n",
       "      <td>0</td>\n",
       "      <td>object</td>\n",
       "      <td>[3/31/2014]</td>\n",
       "    </tr>\n",
       "    <tr>\n",
       "      <th>FLIGHT_COUNT</th>\n",
       "      <td>153</td>\n",
       "      <td>0.000000</td>\n",
       "      <td>0</td>\n",
       "      <td>int64</td>\n",
       "      <td>[210, 140, 135, 23, 152, 92, 101, 73, 56, 64, ...</td>\n",
       "    </tr>\n",
       "    <tr>\n",
       "      <th>BP_SUM</th>\n",
       "      <td>23449</td>\n",
       "      <td>0.000000</td>\n",
       "      <td>0</td>\n",
       "      <td>int64</td>\n",
       "      <td>[505308, 362480, 351159, 337314, 273844, 31333...</td>\n",
       "    </tr>\n",
       "    <tr>\n",
       "      <th>SUM_YR_1</th>\n",
       "      <td>15828</td>\n",
       "      <td>0.874770</td>\n",
       "      <td>551</td>\n",
       "      <td>float64</td>\n",
       "      <td>[239560.0, 171483.0, 163618.0, 116350.0, 12456...</td>\n",
       "    </tr>\n",
       "    <tr>\n",
       "      <th>SUM_YR_2</th>\n",
       "      <td>16767</td>\n",
       "      <td>0.219089</td>\n",
       "      <td>138</td>\n",
       "      <td>float64</td>\n",
       "      <td>[234188.0, 167434.0, 164982.0, 125500.0, 13070...</td>\n",
       "    </tr>\n",
       "    <tr>\n",
       "      <th>SEG_KM_SUM</th>\n",
       "      <td>29081</td>\n",
       "      <td>0.000000</td>\n",
       "      <td>0</td>\n",
       "      <td>int64</td>\n",
       "      <td>[580717, 293678, 283712, 281336, 309928, 29458...</td>\n",
       "    </tr>\n",
       "    <tr>\n",
       "      <th>LAST_FLIGHT_DATE</th>\n",
       "      <td>731</td>\n",
       "      <td>0.000000</td>\n",
       "      <td>0</td>\n",
       "      <td>object</td>\n",
       "      <td>[3/31/2014, 3/25/2014, 3/21/2014, 12/26/2013, ...</td>\n",
       "    </tr>\n",
       "    <tr>\n",
       "      <th>LAST_TO_END</th>\n",
       "      <td>731</td>\n",
       "      <td>0.000000</td>\n",
       "      <td>0</td>\n",
       "      <td>int64</td>\n",
       "      <td>[1, 7, 11, 97, 5, 79, 3, 6, 15, 22, 67, 2, 65,...</td>\n",
       "    </tr>\n",
       "    <tr>\n",
       "      <th>AVG_INTERVAL</th>\n",
       "      <td>10706</td>\n",
       "      <td>0.000000</td>\n",
       "      <td>0</td>\n",
       "      <td>float64</td>\n",
       "      <td>[3.483253589, 5.194244604, 5.298507463, 27.863...</td>\n",
       "    </tr>\n",
       "    <tr>\n",
       "      <th>MAX_INTERVAL</th>\n",
       "      <td>706</td>\n",
       "      <td>0.000000</td>\n",
       "      <td>0</td>\n",
       "      <td>int64</td>\n",
       "      <td>[18, 17, 73, 47, 52, 28, 45, 94, 95, 42, 112, ...</td>\n",
       "    </tr>\n",
       "    <tr>\n",
       "      <th>EXCHANGE_COUNT</th>\n",
       "      <td>28</td>\n",
       "      <td>0.000000</td>\n",
       "      <td>0</td>\n",
       "      <td>int64</td>\n",
       "      <td>[34, 29, 20, 11, 27, 10, 7, 5, 13, 1, 15, 3, 1...</td>\n",
       "    </tr>\n",
       "    <tr>\n",
       "      <th>avg_discount</th>\n",
       "      <td>54179</td>\n",
       "      <td>0.000000</td>\n",
       "      <td>0</td>\n",
       "      <td>float64</td>\n",
       "      <td>[0.961639043, 1.25231444, 1.254675516, 1.09086...</td>\n",
       "    </tr>\n",
       "    <tr>\n",
       "      <th>Points_Sum</th>\n",
       "      <td>25062</td>\n",
       "      <td>0.000000</td>\n",
       "      <td>0</td>\n",
       "      <td>int64</td>\n",
       "      <td>[619760, 415768, 406361, 372204, 338813, 34312...</td>\n",
       "    </tr>\n",
       "    <tr>\n",
       "      <th>Point_NotFlight</th>\n",
       "      <td>99</td>\n",
       "      <td>0.000000</td>\n",
       "      <td>0</td>\n",
       "      <td>int64</td>\n",
       "      <td>[50, 33, 26, 12, 39, 15, 29, 14, 7, 16, 3, 66,...</td>\n",
       "    </tr>\n",
       "  </tbody>\n",
       "</table>\n",
       "</div>"
      ],
      "text/plain": [
       "                  Number of unique values  Percent of Null(%) Number of Null  \\\n",
       "Variable                                                                       \n",
       "MEMBER_NO                           62988            0.000000              0   \n",
       "FFP_DATE                             3068            0.000000              0   \n",
       "FIRST_FLIGHT_DATE                    3406            0.000000              0   \n",
       "GENDER                                  2            0.004763              3   \n",
       "FFP_TIER                                3            0.000000              0   \n",
       "WORK_CITY                            3234            3.602273           2269   \n",
       "WORK_PROVINCE                        1165            5.156538           3248   \n",
       "WORK_COUNTRY                          118            0.041278             26   \n",
       "AGE                                    84            0.666794            420   \n",
       "LOAD_TIME                               1            0.000000              0   \n",
       "FLIGHT_COUNT                          153            0.000000              0   \n",
       "BP_SUM                              23449            0.000000              0   \n",
       "SUM_YR_1                            15828            0.874770            551   \n",
       "SUM_YR_2                            16767            0.219089            138   \n",
       "SEG_KM_SUM                          29081            0.000000              0   \n",
       "LAST_FLIGHT_DATE                      731            0.000000              0   \n",
       "LAST_TO_END                           731            0.000000              0   \n",
       "AVG_INTERVAL                        10706            0.000000              0   \n",
       "MAX_INTERVAL                          706            0.000000              0   \n",
       "EXCHANGE_COUNT                         28            0.000000              0   \n",
       "avg_discount                        54179            0.000000              0   \n",
       "Points_Sum                          25062            0.000000              0   \n",
       "Point_NotFlight                        99            0.000000              0   \n",
       "\n",
       "                      Type                                             Values  \n",
       "Variable                                                                       \n",
       "MEMBER_NO            int64  [54993, 28065, 55106, 21189, 39546, 56972, 449...  \n",
       "FFP_DATE            object  [11/2/2006, 2/19/2007, 2/1/2007, 8/22/2008, 4/...  \n",
       "FIRST_FLIGHT_DATE   object  [12/24/2008, 8/3/2007, 8/30/2007, 8/23/2008, 4...  \n",
       "GENDER              object                                [Male, Female, nan]  \n",
       "FFP_TIER             int64                                          [6, 5, 4]  \n",
       "WORK_CITY           object  [., nan, Los Angeles, guiyang, guangzhou, wulu...  \n",
       "WORK_PROVINCE       object  [beijing, CA, guizhou, guangdong, xinjiang, zh...  \n",
       "WORK_COUNTRY        object  [CN, US, FR, AN, JP, HK, MY, AU, NL, MX, CA, K...  \n",
       "AGE                float64  [31.0, 42.0, 40.0, 64.0, 48.0, 46.0, 50.0, 43....  \n",
       "LOAD_TIME           object                                        [3/31/2014]  \n",
       "FLIGHT_COUNT         int64  [210, 140, 135, 23, 152, 92, 101, 73, 56, 64, ...  \n",
       "BP_SUM               int64  [505308, 362480, 351159, 337314, 273844, 31333...  \n",
       "SUM_YR_1           float64  [239560.0, 171483.0, 163618.0, 116350.0, 12456...  \n",
       "SUM_YR_2           float64  [234188.0, 167434.0, 164982.0, 125500.0, 13070...  \n",
       "SEG_KM_SUM           int64  [580717, 293678, 283712, 281336, 309928, 29458...  \n",
       "LAST_FLIGHT_DATE    object  [3/31/2014, 3/25/2014, 3/21/2014, 12/26/2013, ...  \n",
       "LAST_TO_END          int64  [1, 7, 11, 97, 5, 79, 3, 6, 15, 22, 67, 2, 65,...  \n",
       "AVG_INTERVAL       float64  [3.483253589, 5.194244604, 5.298507463, 27.863...  \n",
       "MAX_INTERVAL         int64  [18, 17, 73, 47, 52, 28, 45, 94, 95, 42, 112, ...  \n",
       "EXCHANGE_COUNT       int64  [34, 29, 20, 11, 27, 10, 7, 5, 13, 1, 15, 3, 1...  \n",
       "avg_discount       float64  [0.961639043, 1.25231444, 1.254675516, 1.09086...  \n",
       "Points_Sum           int64  [619760, 415768, 406361, 372204, 338813, 34312...  \n",
       "Point_NotFlight      int64  [50, 33, 26, 12, 39, 15, 29, 14, 7, 16, 3, 66,...  "
      ]
     },
     "execution_count": 7,
     "metadata": {},
     "output_type": "execute_result"
    }
   ],
   "source": [
    "preprocessing(df)"
   ]
  },
  {
   "cell_type": "code",
   "execution_count": 8,
   "id": "3230b69a-de09-4c2e-b76e-c448f8f2f93c",
   "metadata": {},
   "outputs": [],
   "source": [
    "cat = ['GENDER','WORK_PROVINCE','WORK_COUNTRY','WORK_CITY']\n",
    "numeric = ['AGE','FLIGHT_COUNT','BP_SUM','SUM_YR_1','SUM_YR_2','SEG_KM_SUM',\n",
    "      'LAST_TO_END','AVG_INTERVAL','MAX_INTERVAL','EXCHANGE_COUNT',\n",
    "      'avg_discount','Points_Sum','Point_NotFlight']"
   ]
  },
  {
   "cell_type": "markdown",
   "id": "0992fe0d-21fb-418c-9669-a02ecb8f06ca",
   "metadata": {},
   "source": [
    "**Data Insight**\n",
    "\n",
    "    1. GENDER, WORK_CITY, WORK_PROVINCE, WORK_COUNTRY, AGE, SUM_YR_1,SUM_YR_2 mempunyai null value\n",
    "    2. Data yang mengandung tanggal dapat diubah menjadi datetime\n",
    "    3. WORK_PROVINCE, WORK_CITY, WORK_COUNTRY memiliki High Cardinality"
   ]
  },
  {
   "cell_type": "code",
   "execution_count": 9,
   "id": "3871f604-6157-4b3a-af53-e8ee9dc323cc",
   "metadata": {},
   "outputs": [],
   "source": [
    "df['FFP_DATE'] = pd.to_datetime(df['FFP_DATE'])\n",
    "df['FIRST_FLIGHT_DATE'] = pd.to_datetime(df['FIRST_FLIGHT_DATE'])"
   ]
  },
  {
   "cell_type": "code",
   "execution_count": 10,
   "id": "ae7a9d36-dbf2-48aa-91e1-d113bfbcefd2",
   "metadata": {},
   "outputs": [],
   "source": [
    "df['LAST_FLIGHT_DATE'] = df['LAST_FLIGHT_DATE'].str.replace('2014/2/29','2014/2/28')"
   ]
  },
  {
   "cell_type": "markdown",
   "id": "4a8864bf-e1ca-47ac-8bfb-4699bb268487",
   "metadata": {},
   "source": [
    "ada salah penulisan tanggal pada kolom LAST_FLIGHT_DATE"
   ]
  },
  {
   "cell_type": "code",
   "execution_count": 11,
   "id": "502fbd89-2b5e-4451-9738-ecbd98163140",
   "metadata": {},
   "outputs": [],
   "source": [
    "df['LAST_FLIGHT_DATE'] = pd.to_datetime(df['LAST_FLIGHT_DATE'])"
   ]
  },
  {
   "cell_type": "code",
   "execution_count": 12,
   "id": "25d9e53c-dd6b-4a0a-aa9c-8d0d1d332d1c",
   "metadata": {},
   "outputs": [],
   "source": [
    "df['LOAD_TIME'] = pd.to_datetime(df['LOAD_TIME'])"
   ]
  },
  {
   "cell_type": "markdown",
   "id": "a04d8fef-d6a6-4ee5-9a37-70043431ac97",
   "metadata": {
    "jp-MarkdownHeadingCollapsed": true,
    "tags": []
   },
   "source": [
    "## Descriptitve Analysis"
   ]
  },
  {
   "cell_type": "code",
   "execution_count": 13,
   "id": "4c1d814e-5078-492f-b379-41fd8eb881d7",
   "metadata": {
    "tags": []
   },
   "outputs": [
    {
     "data": {
      "text/html": [
       "<div>\n",
       "<style scoped>\n",
       "    .dataframe tbody tr th:only-of-type {\n",
       "        vertical-align: middle;\n",
       "    }\n",
       "\n",
       "    .dataframe tbody tr th {\n",
       "        vertical-align: top;\n",
       "    }\n",
       "\n",
       "    .dataframe thead th {\n",
       "        text-align: right;\n",
       "    }\n",
       "</style>\n",
       "<table border=\"1\" class=\"dataframe\">\n",
       "  <thead>\n",
       "    <tr style=\"text-align: right;\">\n",
       "      <th></th>\n",
       "      <th>MEMBER_NO</th>\n",
       "      <th>FFP_TIER</th>\n",
       "      <th>AGE</th>\n",
       "      <th>FLIGHT_COUNT</th>\n",
       "      <th>BP_SUM</th>\n",
       "      <th>SUM_YR_1</th>\n",
       "      <th>SUM_YR_2</th>\n",
       "      <th>SEG_KM_SUM</th>\n",
       "      <th>LAST_TO_END</th>\n",
       "      <th>AVG_INTERVAL</th>\n",
       "      <th>MAX_INTERVAL</th>\n",
       "      <th>EXCHANGE_COUNT</th>\n",
       "      <th>avg_discount</th>\n",
       "      <th>Points_Sum</th>\n",
       "      <th>Point_NotFlight</th>\n",
       "    </tr>\n",
       "  </thead>\n",
       "  <tbody>\n",
       "    <tr>\n",
       "      <th>count</th>\n",
       "      <td>62988.000000</td>\n",
       "      <td>62988.000000</td>\n",
       "      <td>62568.000000</td>\n",
       "      <td>62988.000000</td>\n",
       "      <td>62988.000000</td>\n",
       "      <td>62437.000000</td>\n",
       "      <td>62850.000000</td>\n",
       "      <td>62988.000000</td>\n",
       "      <td>62988.000000</td>\n",
       "      <td>62988.000000</td>\n",
       "      <td>62988.000000</td>\n",
       "      <td>62988.000000</td>\n",
       "      <td>62988.000000</td>\n",
       "      <td>62988.0000</td>\n",
       "      <td>62988.000000</td>\n",
       "    </tr>\n",
       "    <tr>\n",
       "      <th>mean</th>\n",
       "      <td>31494.500000</td>\n",
       "      <td>4.102162</td>\n",
       "      <td>42.476346</td>\n",
       "      <td>11.839414</td>\n",
       "      <td>10925.081254</td>\n",
       "      <td>5355.376064</td>\n",
       "      <td>5604.026014</td>\n",
       "      <td>17123.878691</td>\n",
       "      <td>176.120102</td>\n",
       "      <td>67.749788</td>\n",
       "      <td>166.033895</td>\n",
       "      <td>0.319775</td>\n",
       "      <td>0.721558</td>\n",
       "      <td>12545.7771</td>\n",
       "      <td>2.728155</td>\n",
       "    </tr>\n",
       "    <tr>\n",
       "      <th>std</th>\n",
       "      <td>18183.213715</td>\n",
       "      <td>0.373856</td>\n",
       "      <td>9.885915</td>\n",
       "      <td>14.049471</td>\n",
       "      <td>16339.486151</td>\n",
       "      <td>8109.450147</td>\n",
       "      <td>8703.364247</td>\n",
       "      <td>20960.844623</td>\n",
       "      <td>183.822223</td>\n",
       "      <td>77.517866</td>\n",
       "      <td>123.397180</td>\n",
       "      <td>1.136004</td>\n",
       "      <td>0.185427</td>\n",
       "      <td>20507.8167</td>\n",
       "      <td>7.364164</td>\n",
       "    </tr>\n",
       "    <tr>\n",
       "      <th>min</th>\n",
       "      <td>1.000000</td>\n",
       "      <td>4.000000</td>\n",
       "      <td>6.000000</td>\n",
       "      <td>2.000000</td>\n",
       "      <td>0.000000</td>\n",
       "      <td>0.000000</td>\n",
       "      <td>0.000000</td>\n",
       "      <td>368.000000</td>\n",
       "      <td>1.000000</td>\n",
       "      <td>0.000000</td>\n",
       "      <td>0.000000</td>\n",
       "      <td>0.000000</td>\n",
       "      <td>0.000000</td>\n",
       "      <td>0.0000</td>\n",
       "      <td>0.000000</td>\n",
       "    </tr>\n",
       "    <tr>\n",
       "      <th>25%</th>\n",
       "      <td>15747.750000</td>\n",
       "      <td>4.000000</td>\n",
       "      <td>35.000000</td>\n",
       "      <td>3.000000</td>\n",
       "      <td>2518.000000</td>\n",
       "      <td>1003.000000</td>\n",
       "      <td>780.000000</td>\n",
       "      <td>4747.000000</td>\n",
       "      <td>29.000000</td>\n",
       "      <td>23.370370</td>\n",
       "      <td>79.000000</td>\n",
       "      <td>0.000000</td>\n",
       "      <td>0.611997</td>\n",
       "      <td>2775.0000</td>\n",
       "      <td>0.000000</td>\n",
       "    </tr>\n",
       "    <tr>\n",
       "      <th>50%</th>\n",
       "      <td>31494.500000</td>\n",
       "      <td>4.000000</td>\n",
       "      <td>41.000000</td>\n",
       "      <td>7.000000</td>\n",
       "      <td>5700.000000</td>\n",
       "      <td>2800.000000</td>\n",
       "      <td>2773.000000</td>\n",
       "      <td>9994.000000</td>\n",
       "      <td>108.000000</td>\n",
       "      <td>44.666667</td>\n",
       "      <td>143.000000</td>\n",
       "      <td>0.000000</td>\n",
       "      <td>0.711856</td>\n",
       "      <td>6328.5000</td>\n",
       "      <td>0.000000</td>\n",
       "    </tr>\n",
       "    <tr>\n",
       "      <th>75%</th>\n",
       "      <td>47241.250000</td>\n",
       "      <td>4.000000</td>\n",
       "      <td>48.000000</td>\n",
       "      <td>15.000000</td>\n",
       "      <td>12831.000000</td>\n",
       "      <td>6574.000000</td>\n",
       "      <td>6845.750000</td>\n",
       "      <td>21271.250000</td>\n",
       "      <td>268.000000</td>\n",
       "      <td>82.000000</td>\n",
       "      <td>228.000000</td>\n",
       "      <td>0.000000</td>\n",
       "      <td>0.809476</td>\n",
       "      <td>14302.5000</td>\n",
       "      <td>1.000000</td>\n",
       "    </tr>\n",
       "    <tr>\n",
       "      <th>max</th>\n",
       "      <td>62988.000000</td>\n",
       "      <td>6.000000</td>\n",
       "      <td>110.000000</td>\n",
       "      <td>213.000000</td>\n",
       "      <td>505308.000000</td>\n",
       "      <td>239560.000000</td>\n",
       "      <td>234188.000000</td>\n",
       "      <td>580717.000000</td>\n",
       "      <td>731.000000</td>\n",
       "      <td>728.000000</td>\n",
       "      <td>728.000000</td>\n",
       "      <td>46.000000</td>\n",
       "      <td>1.500000</td>\n",
       "      <td>985572.0000</td>\n",
       "      <td>140.000000</td>\n",
       "    </tr>\n",
       "  </tbody>\n",
       "</table>\n",
       "</div>"
      ],
      "text/plain": [
       "          MEMBER_NO      FFP_TIER           AGE  FLIGHT_COUNT         BP_SUM  \\\n",
       "count  62988.000000  62988.000000  62568.000000  62988.000000   62988.000000   \n",
       "mean   31494.500000      4.102162     42.476346     11.839414   10925.081254   \n",
       "std    18183.213715      0.373856      9.885915     14.049471   16339.486151   \n",
       "min        1.000000      4.000000      6.000000      2.000000       0.000000   \n",
       "25%    15747.750000      4.000000     35.000000      3.000000    2518.000000   \n",
       "50%    31494.500000      4.000000     41.000000      7.000000    5700.000000   \n",
       "75%    47241.250000      4.000000     48.000000     15.000000   12831.000000   \n",
       "max    62988.000000      6.000000    110.000000    213.000000  505308.000000   \n",
       "\n",
       "            SUM_YR_1       SUM_YR_2     SEG_KM_SUM   LAST_TO_END  \\\n",
       "count   62437.000000   62850.000000   62988.000000  62988.000000   \n",
       "mean     5355.376064    5604.026014   17123.878691    176.120102   \n",
       "std      8109.450147    8703.364247   20960.844623    183.822223   \n",
       "min         0.000000       0.000000     368.000000      1.000000   \n",
       "25%      1003.000000     780.000000    4747.000000     29.000000   \n",
       "50%      2800.000000    2773.000000    9994.000000    108.000000   \n",
       "75%      6574.000000    6845.750000   21271.250000    268.000000   \n",
       "max    239560.000000  234188.000000  580717.000000    731.000000   \n",
       "\n",
       "       AVG_INTERVAL  MAX_INTERVAL  EXCHANGE_COUNT  avg_discount   Points_Sum  \\\n",
       "count  62988.000000  62988.000000    62988.000000  62988.000000   62988.0000   \n",
       "mean      67.749788    166.033895        0.319775      0.721558   12545.7771   \n",
       "std       77.517866    123.397180        1.136004      0.185427   20507.8167   \n",
       "min        0.000000      0.000000        0.000000      0.000000       0.0000   \n",
       "25%       23.370370     79.000000        0.000000      0.611997    2775.0000   \n",
       "50%       44.666667    143.000000        0.000000      0.711856    6328.5000   \n",
       "75%       82.000000    228.000000        0.000000      0.809476   14302.5000   \n",
       "max      728.000000    728.000000       46.000000      1.500000  985572.0000   \n",
       "\n",
       "       Point_NotFlight  \n",
       "count     62988.000000  \n",
       "mean          2.728155  \n",
       "std           7.364164  \n",
       "min           0.000000  \n",
       "25%           0.000000  \n",
       "50%           0.000000  \n",
       "75%           1.000000  \n",
       "max         140.000000  "
      ]
     },
     "execution_count": 13,
     "metadata": {},
     "output_type": "execute_result"
    }
   ],
   "source": [
    "df.describe()"
   ]
  },
  {
   "cell_type": "markdown",
   "id": "1768c0be-e4ea-4b2b-bbe1-e7fae78f4306",
   "metadata": {},
   "source": [
    "**Data Insight**\n",
    "\n",
    "    1. nilai max AGE ada yang mencapai 110 tahun\n",
    "    2. Total data yang dimiliki adalah 62988"
   ]
  },
  {
   "cell_type": "code",
   "execution_count": 14,
   "id": "0f4acade-4202-4791-a243-9f0e41f013fc",
   "metadata": {},
   "outputs": [],
   "source": [
    "import numpy as np\n",
    "import pandas as pd\n",
    "import matplotlib.pyplot as plt\n",
    "import seaborn as sns\n",
    "from scipy import stats\n",
    "import warnings\n",
    "warnings.filterwarnings(\"ignore\")"
   ]
  },
  {
   "cell_type": "code",
   "execution_count": 15,
   "id": "13e92c6d-2e98-4db1-a4ef-1ede205d52d5",
   "metadata": {},
   "outputs": [],
   "source": [
    "df = pd.read_csv('flight.csv')"
   ]
  },
  {
   "cell_type": "code",
   "execution_count": 16,
   "id": "748315f7-1925-49d1-be45-5399645d054e",
   "metadata": {},
   "outputs": [],
   "source": [
    "def preprocessing(df):\n",
    "    \"\"\"\"\n",
    "    Objective :\n",
    "    Function for preprocessing data, known missing, duplicated values and basic stastics every column in dataframe and duplicated row\n",
    "    df is dataframe\n",
    "    \"\"\"\n",
    "    try:\n",
    "        import pandas as pd\n",
    "        variables = pd.DataFrame(columns=['Variable','Number of unique values','Percent of Null(%)','Number of Null','Type','Values'])\n",
    "        for i, var in enumerate(df.columns):\n",
    "            variables.loc[i] = [var, df[var].nunique(),df[var].isnull().sum()/df.shape[0]*100,df[var].isnull().sum(),df[var].dtypes,df[var].unique()]\n",
    "        return (variables.set_index('Variable'))\n",
    "    except:\n",
    "        print('ada kesalahan penginputan')"
   ]
  },
  {
   "cell_type": "code",
   "execution_count": 17,
   "id": "591b0327-32f2-48bb-9dab-df24dde1b837",
   "metadata": {},
   "outputs": [
    {
     "data": {
      "text/plain": [
       "0"
      ]
     },
     "execution_count": 17,
     "metadata": {},
     "output_type": "execute_result"
    }
   ],
   "source": [
    "df.duplicated().sum()"
   ]
  },
  {
   "cell_type": "code",
   "execution_count": 18,
   "id": "bbcb2696-f62f-40df-b99b-a6e986189253",
   "metadata": {},
   "outputs": [
    {
     "data": {
      "text/plain": [
       "0"
      ]
     },
     "execution_count": 18,
     "metadata": {},
     "output_type": "execute_result"
    }
   ],
   "source": [
    "df.duplicated(subset='MEMBER_NO').sum()"
   ]
  },
  {
   "cell_type": "code",
   "execution_count": 19,
   "id": "c15247c8-898c-4bed-9840-c38a0f1b1897",
   "metadata": {
    "tags": []
   },
   "outputs": [
    {
     "data": {
      "text/html": [
       "<div>\n",
       "<style scoped>\n",
       "    .dataframe tbody tr th:only-of-type {\n",
       "        vertical-align: middle;\n",
       "    }\n",
       "\n",
       "    .dataframe tbody tr th {\n",
       "        vertical-align: top;\n",
       "    }\n",
       "\n",
       "    .dataframe thead th {\n",
       "        text-align: right;\n",
       "    }\n",
       "</style>\n",
       "<table border=\"1\" class=\"dataframe\">\n",
       "  <thead>\n",
       "    <tr style=\"text-align: right;\">\n",
       "      <th></th>\n",
       "      <th>Number of unique values</th>\n",
       "      <th>Percent of Null(%)</th>\n",
       "      <th>Number of Null</th>\n",
       "      <th>Type</th>\n",
       "      <th>Values</th>\n",
       "    </tr>\n",
       "    <tr>\n",
       "      <th>Variable</th>\n",
       "      <th></th>\n",
       "      <th></th>\n",
       "      <th></th>\n",
       "      <th></th>\n",
       "      <th></th>\n",
       "    </tr>\n",
       "  </thead>\n",
       "  <tbody>\n",
       "    <tr>\n",
       "      <th>MEMBER_NO</th>\n",
       "      <td>62988</td>\n",
       "      <td>0.000000</td>\n",
       "      <td>0</td>\n",
       "      <td>int64</td>\n",
       "      <td>[54993, 28065, 55106, 21189, 39546, 56972, 449...</td>\n",
       "    </tr>\n",
       "    <tr>\n",
       "      <th>FFP_DATE</th>\n",
       "      <td>3068</td>\n",
       "      <td>0.000000</td>\n",
       "      <td>0</td>\n",
       "      <td>object</td>\n",
       "      <td>[11/2/2006, 2/19/2007, 2/1/2007, 8/22/2008, 4/...</td>\n",
       "    </tr>\n",
       "    <tr>\n",
       "      <th>FIRST_FLIGHT_DATE</th>\n",
       "      <td>3406</td>\n",
       "      <td>0.000000</td>\n",
       "      <td>0</td>\n",
       "      <td>object</td>\n",
       "      <td>[12/24/2008, 8/3/2007, 8/30/2007, 8/23/2008, 4...</td>\n",
       "    </tr>\n",
       "    <tr>\n",
       "      <th>GENDER</th>\n",
       "      <td>2</td>\n",
       "      <td>0.004763</td>\n",
       "      <td>3</td>\n",
       "      <td>object</td>\n",
       "      <td>[Male, Female, nan]</td>\n",
       "    </tr>\n",
       "    <tr>\n",
       "      <th>FFP_TIER</th>\n",
       "      <td>3</td>\n",
       "      <td>0.000000</td>\n",
       "      <td>0</td>\n",
       "      <td>int64</td>\n",
       "      <td>[6, 5, 4]</td>\n",
       "    </tr>\n",
       "    <tr>\n",
       "      <th>WORK_CITY</th>\n",
       "      <td>3234</td>\n",
       "      <td>3.602273</td>\n",
       "      <td>2269</td>\n",
       "      <td>object</td>\n",
       "      <td>[., nan, Los Angeles, guiyang, guangzhou, wulu...</td>\n",
       "    </tr>\n",
       "    <tr>\n",
       "      <th>WORK_PROVINCE</th>\n",
       "      <td>1165</td>\n",
       "      <td>5.156538</td>\n",
       "      <td>3248</td>\n",
       "      <td>object</td>\n",
       "      <td>[beijing, CA, guizhou, guangdong, xinjiang, zh...</td>\n",
       "    </tr>\n",
       "    <tr>\n",
       "      <th>WORK_COUNTRY</th>\n",
       "      <td>118</td>\n",
       "      <td>0.041278</td>\n",
       "      <td>26</td>\n",
       "      <td>object</td>\n",
       "      <td>[CN, US, FR, AN, JP, HK, MY, AU, NL, MX, CA, K...</td>\n",
       "    </tr>\n",
       "    <tr>\n",
       "      <th>AGE</th>\n",
       "      <td>84</td>\n",
       "      <td>0.666794</td>\n",
       "      <td>420</td>\n",
       "      <td>float64</td>\n",
       "      <td>[31.0, 42.0, 40.0, 64.0, 48.0, 46.0, 50.0, 43....</td>\n",
       "    </tr>\n",
       "    <tr>\n",
       "      <th>LOAD_TIME</th>\n",
       "      <td>1</td>\n",
       "      <td>0.000000</td>\n",
       "      <td>0</td>\n",
       "      <td>object</td>\n",
       "      <td>[3/31/2014]</td>\n",
       "    </tr>\n",
       "    <tr>\n",
       "      <th>FLIGHT_COUNT</th>\n",
       "      <td>153</td>\n",
       "      <td>0.000000</td>\n",
       "      <td>0</td>\n",
       "      <td>int64</td>\n",
       "      <td>[210, 140, 135, 23, 152, 92, 101, 73, 56, 64, ...</td>\n",
       "    </tr>\n",
       "    <tr>\n",
       "      <th>BP_SUM</th>\n",
       "      <td>23449</td>\n",
       "      <td>0.000000</td>\n",
       "      <td>0</td>\n",
       "      <td>int64</td>\n",
       "      <td>[505308, 362480, 351159, 337314, 273844, 31333...</td>\n",
       "    </tr>\n",
       "    <tr>\n",
       "      <th>SUM_YR_1</th>\n",
       "      <td>15828</td>\n",
       "      <td>0.874770</td>\n",
       "      <td>551</td>\n",
       "      <td>float64</td>\n",
       "      <td>[239560.0, 171483.0, 163618.0, 116350.0, 12456...</td>\n",
       "    </tr>\n",
       "    <tr>\n",
       "      <th>SUM_YR_2</th>\n",
       "      <td>16767</td>\n",
       "      <td>0.219089</td>\n",
       "      <td>138</td>\n",
       "      <td>float64</td>\n",
       "      <td>[234188.0, 167434.0, 164982.0, 125500.0, 13070...</td>\n",
       "    </tr>\n",
       "    <tr>\n",
       "      <th>SEG_KM_SUM</th>\n",
       "      <td>29081</td>\n",
       "      <td>0.000000</td>\n",
       "      <td>0</td>\n",
       "      <td>int64</td>\n",
       "      <td>[580717, 293678, 283712, 281336, 309928, 29458...</td>\n",
       "    </tr>\n",
       "    <tr>\n",
       "      <th>LAST_FLIGHT_DATE</th>\n",
       "      <td>731</td>\n",
       "      <td>0.000000</td>\n",
       "      <td>0</td>\n",
       "      <td>object</td>\n",
       "      <td>[3/31/2014, 3/25/2014, 3/21/2014, 12/26/2013, ...</td>\n",
       "    </tr>\n",
       "    <tr>\n",
       "      <th>LAST_TO_END</th>\n",
       "      <td>731</td>\n",
       "      <td>0.000000</td>\n",
       "      <td>0</td>\n",
       "      <td>int64</td>\n",
       "      <td>[1, 7, 11, 97, 5, 79, 3, 6, 15, 22, 67, 2, 65,...</td>\n",
       "    </tr>\n",
       "    <tr>\n",
       "      <th>AVG_INTERVAL</th>\n",
       "      <td>10706</td>\n",
       "      <td>0.000000</td>\n",
       "      <td>0</td>\n",
       "      <td>float64</td>\n",
       "      <td>[3.483253589, 5.194244604, 5.298507463, 27.863...</td>\n",
       "    </tr>\n",
       "    <tr>\n",
       "      <th>MAX_INTERVAL</th>\n",
       "      <td>706</td>\n",
       "      <td>0.000000</td>\n",
       "      <td>0</td>\n",
       "      <td>int64</td>\n",
       "      <td>[18, 17, 73, 47, 52, 28, 45, 94, 95, 42, 112, ...</td>\n",
       "    </tr>\n",
       "    <tr>\n",
       "      <th>EXCHANGE_COUNT</th>\n",
       "      <td>28</td>\n",
       "      <td>0.000000</td>\n",
       "      <td>0</td>\n",
       "      <td>int64</td>\n",
       "      <td>[34, 29, 20, 11, 27, 10, 7, 5, 13, 1, 15, 3, 1...</td>\n",
       "    </tr>\n",
       "    <tr>\n",
       "      <th>avg_discount</th>\n",
       "      <td>54179</td>\n",
       "      <td>0.000000</td>\n",
       "      <td>0</td>\n",
       "      <td>float64</td>\n",
       "      <td>[0.961639043, 1.25231444, 1.254675516, 1.09086...</td>\n",
       "    </tr>\n",
       "    <tr>\n",
       "      <th>Points_Sum</th>\n",
       "      <td>25062</td>\n",
       "      <td>0.000000</td>\n",
       "      <td>0</td>\n",
       "      <td>int64</td>\n",
       "      <td>[619760, 415768, 406361, 372204, 338813, 34312...</td>\n",
       "    </tr>\n",
       "    <tr>\n",
       "      <th>Point_NotFlight</th>\n",
       "      <td>99</td>\n",
       "      <td>0.000000</td>\n",
       "      <td>0</td>\n",
       "      <td>int64</td>\n",
       "      <td>[50, 33, 26, 12, 39, 15, 29, 14, 7, 16, 3, 66,...</td>\n",
       "    </tr>\n",
       "  </tbody>\n",
       "</table>\n",
       "</div>"
      ],
      "text/plain": [
       "                  Number of unique values  Percent of Null(%) Number of Null  \\\n",
       "Variable                                                                       \n",
       "MEMBER_NO                           62988            0.000000              0   \n",
       "FFP_DATE                             3068            0.000000              0   \n",
       "FIRST_FLIGHT_DATE                    3406            0.000000              0   \n",
       "GENDER                                  2            0.004763              3   \n",
       "FFP_TIER                                3            0.000000              0   \n",
       "WORK_CITY                            3234            3.602273           2269   \n",
       "WORK_PROVINCE                        1165            5.156538           3248   \n",
       "WORK_COUNTRY                          118            0.041278             26   \n",
       "AGE                                    84            0.666794            420   \n",
       "LOAD_TIME                               1            0.000000              0   \n",
       "FLIGHT_COUNT                          153            0.000000              0   \n",
       "BP_SUM                              23449            0.000000              0   \n",
       "SUM_YR_1                            15828            0.874770            551   \n",
       "SUM_YR_2                            16767            0.219089            138   \n",
       "SEG_KM_SUM                          29081            0.000000              0   \n",
       "LAST_FLIGHT_DATE                      731            0.000000              0   \n",
       "LAST_TO_END                           731            0.000000              0   \n",
       "AVG_INTERVAL                        10706            0.000000              0   \n",
       "MAX_INTERVAL                          706            0.000000              0   \n",
       "EXCHANGE_COUNT                         28            0.000000              0   \n",
       "avg_discount                        54179            0.000000              0   \n",
       "Points_Sum                          25062            0.000000              0   \n",
       "Point_NotFlight                        99            0.000000              0   \n",
       "\n",
       "                      Type                                             Values  \n",
       "Variable                                                                       \n",
       "MEMBER_NO            int64  [54993, 28065, 55106, 21189, 39546, 56972, 449...  \n",
       "FFP_DATE            object  [11/2/2006, 2/19/2007, 2/1/2007, 8/22/2008, 4/...  \n",
       "FIRST_FLIGHT_DATE   object  [12/24/2008, 8/3/2007, 8/30/2007, 8/23/2008, 4...  \n",
       "GENDER              object                                [Male, Female, nan]  \n",
       "FFP_TIER             int64                                          [6, 5, 4]  \n",
       "WORK_CITY           object  [., nan, Los Angeles, guiyang, guangzhou, wulu...  \n",
       "WORK_PROVINCE       object  [beijing, CA, guizhou, guangdong, xinjiang, zh...  \n",
       "WORK_COUNTRY        object  [CN, US, FR, AN, JP, HK, MY, AU, NL, MX, CA, K...  \n",
       "AGE                float64  [31.0, 42.0, 40.0, 64.0, 48.0, 46.0, 50.0, 43....  \n",
       "LOAD_TIME           object                                        [3/31/2014]  \n",
       "FLIGHT_COUNT         int64  [210, 140, 135, 23, 152, 92, 101, 73, 56, 64, ...  \n",
       "BP_SUM               int64  [505308, 362480, 351159, 337314, 273844, 31333...  \n",
       "SUM_YR_1           float64  [239560.0, 171483.0, 163618.0, 116350.0, 12456...  \n",
       "SUM_YR_2           float64  [234188.0, 167434.0, 164982.0, 125500.0, 13070...  \n",
       "SEG_KM_SUM           int64  [580717, 293678, 283712, 281336, 309928, 29458...  \n",
       "LAST_FLIGHT_DATE    object  [3/31/2014, 3/25/2014, 3/21/2014, 12/26/2013, ...  \n",
       "LAST_TO_END          int64  [1, 7, 11, 97, 5, 79, 3, 6, 15, 22, 67, 2, 65,...  \n",
       "AVG_INTERVAL       float64  [3.483253589, 5.194244604, 5.298507463, 27.863...  \n",
       "MAX_INTERVAL         int64  [18, 17, 73, 47, 52, 28, 45, 94, 95, 42, 112, ...  \n",
       "EXCHANGE_COUNT       int64  [34, 29, 20, 11, 27, 10, 7, 5, 13, 1, 15, 3, 1...  \n",
       "avg_discount       float64  [0.961639043, 1.25231444, 1.254675516, 1.09086...  \n",
       "Points_Sum           int64  [619760, 415768, 406361, 372204, 338813, 34312...  \n",
       "Point_NotFlight      int64  [50, 33, 26, 12, 39, 15, 29, 14, 7, 16, 3, 66,...  "
      ]
     },
     "execution_count": 19,
     "metadata": {},
     "output_type": "execute_result"
    }
   ],
   "source": [
    "preprocessing(df)"
   ]
  },
  {
   "cell_type": "code",
   "execution_count": 20,
   "id": "e5bd298d-b65c-4a31-a1be-ff9c00eb6437",
   "metadata": {},
   "outputs": [],
   "source": [
    "cat = ['GENDER','WORK_PROVINCE','WORK_COUNTRY','WORK_CITY']\n",
    "numeric = ['AGE','FLIGHT_COUNT','BP_SUM','SUM_YR_1','SUM_YR_2','SEG_KM_SUM',\n",
    "      'LAST_TO_END','AVG_INTERVAL','MAX_INTERVAL','EXCHANGE_COUNT',\n",
    "      'avg_discount','Points_Sum','Point_NotFlight']"
   ]
  },
  {
   "cell_type": "markdown",
   "id": "a4dddc59-0d16-490c-8e60-ea69ff4ff53d",
   "metadata": {},
   "source": [
    "**Data Insight**\n",
    "\n",
    "    1. GENDER, WORK_CITY, WORK_PROVINCE, WORK_COUNTRY, AGE, SUM_YR_1,SUM_YR_2 mempunyai null value\n",
    "    2. Data yang mengandung tanggal dapat diubah menjadi datetime\n",
    "    3. WORK_PROVINCE, WORK_CITY, WORK_COUNTRY memiliki High Cardinality"
   ]
  },
  {
   "cell_type": "code",
   "execution_count": 21,
   "id": "db6ce2aa-3d22-4c2a-aaea-e8e04981f836",
   "metadata": {},
   "outputs": [],
   "source": [
    "df['FFP_DATE'] = pd.to_datetime(df['FFP_DATE'])\n",
    "df['FIRST_FLIGHT_DATE'] = pd.to_datetime(df['FIRST_FLIGHT_DATE'])"
   ]
  },
  {
   "cell_type": "code",
   "execution_count": 22,
   "id": "26d9cc00-5166-4cfa-b2cd-433aa5ce96e0",
   "metadata": {},
   "outputs": [],
   "source": [
    "df['LAST_FLIGHT_DATE'] = df['LAST_FLIGHT_DATE'].str.replace('2014/2/29','2014/2/28')"
   ]
  },
  {
   "cell_type": "markdown",
   "id": "ebd3271a-7653-4b4d-b8b2-fc51e9778ff4",
   "metadata": {},
   "source": [
    "ada salah penulisan tanggal pada kolom LAST_FLIGHT_DATE"
   ]
  },
  {
   "cell_type": "code",
   "execution_count": 23,
   "id": "b4d13709-f328-47cb-aed7-76ddea28abf7",
   "metadata": {},
   "outputs": [],
   "source": [
    "df['LAST_FLIGHT_DATE'] = pd.to_datetime(df['LAST_FLIGHT_DATE'])"
   ]
  },
  {
   "cell_type": "code",
   "execution_count": 24,
   "id": "0d300a16-4cd9-49fb-87d7-80e1fb081cb3",
   "metadata": {},
   "outputs": [
    {
     "data": {
      "text/html": [
       "<div>\n",
       "<style scoped>\n",
       "    .dataframe tbody tr th:only-of-type {\n",
       "        vertical-align: middle;\n",
       "    }\n",
       "\n",
       "    .dataframe tbody tr th {\n",
       "        vertical-align: top;\n",
       "    }\n",
       "\n",
       "    .dataframe thead th {\n",
       "        text-align: right;\n",
       "    }\n",
       "</style>\n",
       "<table border=\"1\" class=\"dataframe\">\n",
       "  <thead>\n",
       "    <tr style=\"text-align: right;\">\n",
       "      <th></th>\n",
       "      <th>GENDER</th>\n",
       "      <th>WORK_PROVINCE</th>\n",
       "      <th>WORK_COUNTRY</th>\n",
       "      <th>WORK_CITY</th>\n",
       "    </tr>\n",
       "  </thead>\n",
       "  <tbody>\n",
       "    <tr>\n",
       "      <th>count</th>\n",
       "      <td>62985</td>\n",
       "      <td>59740</td>\n",
       "      <td>62962</td>\n",
       "      <td>60719</td>\n",
       "    </tr>\n",
       "    <tr>\n",
       "      <th>unique</th>\n",
       "      <td>2</td>\n",
       "      <td>1165</td>\n",
       "      <td>118</td>\n",
       "      <td>3234</td>\n",
       "    </tr>\n",
       "    <tr>\n",
       "      <th>top</th>\n",
       "      <td>Male</td>\n",
       "      <td>guangdong</td>\n",
       "      <td>CN</td>\n",
       "      <td>guangzhou</td>\n",
       "    </tr>\n",
       "    <tr>\n",
       "      <th>freq</th>\n",
       "      <td>48134</td>\n",
       "      <td>17509</td>\n",
       "      <td>57748</td>\n",
       "      <td>9386</td>\n",
       "    </tr>\n",
       "  </tbody>\n",
       "</table>\n",
       "</div>"
      ],
      "text/plain": [
       "       GENDER WORK_PROVINCE WORK_COUNTRY  WORK_CITY\n",
       "count   62985         59740        62962      60719\n",
       "unique      2          1165          118       3234\n",
       "top      Male     guangdong           CN  guangzhou\n",
       "freq    48134         17509        57748       9386"
      ]
     },
     "execution_count": 24,
     "metadata": {},
     "output_type": "execute_result"
    }
   ],
   "source": [
    "df[cat].describe()"
   ]
  },
  {
   "cell_type": "code",
   "execution_count": 25,
   "id": "7bdc6bfa-dd63-46bb-927f-601c8ee5bf56",
   "metadata": {},
   "outputs": [
    {
     "data": {
      "text/html": [
       "<div>\n",
       "<style scoped>\n",
       "    .dataframe tbody tr th:only-of-type {\n",
       "        vertical-align: middle;\n",
       "    }\n",
       "\n",
       "    .dataframe tbody tr th {\n",
       "        vertical-align: top;\n",
       "    }\n",
       "\n",
       "    .dataframe thead th {\n",
       "        text-align: right;\n",
       "    }\n",
       "</style>\n",
       "<table border=\"1\" class=\"dataframe\">\n",
       "  <thead>\n",
       "    <tr style=\"text-align: right;\">\n",
       "      <th></th>\n",
       "      <th>FIRST_FLIGHT_DATE</th>\n",
       "      <th>LAST_FLIGHT_DATE</th>\n",
       "    </tr>\n",
       "  </thead>\n",
       "  <tbody>\n",
       "    <tr>\n",
       "      <th>count</th>\n",
       "      <td>62988</td>\n",
       "      <td>62988</td>\n",
       "    </tr>\n",
       "    <tr>\n",
       "      <th>unique</th>\n",
       "      <td>3406</td>\n",
       "      <td>730</td>\n",
       "    </tr>\n",
       "    <tr>\n",
       "      <th>top</th>\n",
       "      <td>2013-02-16 00:00:00</td>\n",
       "      <td>2014-03-31 00:00:00</td>\n",
       "    </tr>\n",
       "    <tr>\n",
       "      <th>freq</th>\n",
       "      <td>96</td>\n",
       "      <td>959</td>\n",
       "    </tr>\n",
       "    <tr>\n",
       "      <th>first</th>\n",
       "      <td>1905-12-31 00:00:00</td>\n",
       "      <td>2012-04-01 00:00:00</td>\n",
       "    </tr>\n",
       "    <tr>\n",
       "      <th>last</th>\n",
       "      <td>2015-05-30 00:00:00</td>\n",
       "      <td>2014-03-31 00:00:00</td>\n",
       "    </tr>\n",
       "  </tbody>\n",
       "</table>\n",
       "</div>"
      ],
      "text/plain": [
       "          FIRST_FLIGHT_DATE     LAST_FLIGHT_DATE\n",
       "count                 62988                62988\n",
       "unique                 3406                  730\n",
       "top     2013-02-16 00:00:00  2014-03-31 00:00:00\n",
       "freq                     96                  959\n",
       "first   1905-12-31 00:00:00  2012-04-01 00:00:00\n",
       "last    2015-05-30 00:00:00  2014-03-31 00:00:00"
      ]
     },
     "execution_count": 25,
     "metadata": {},
     "output_type": "execute_result"
    }
   ],
   "source": [
    "df[['FIRST_FLIGHT_DATE','LAST_FLIGHT_DATE']].describe()"
   ]
  },
  {
   "cell_type": "markdown",
   "id": "d1eba82e-5d59-4bb5-b51c-05ddbff54f09",
   "metadata": {},
   "source": [
    "**Data Insight**\n",
    "\n",
    "penerbangan pertama ada yang tahun 1905"
   ]
  },
  {
   "cell_type": "markdown",
   "id": "16569fc9-83c1-444b-8a56-564506d002f6",
   "metadata": {
    "tags": []
   },
   "source": [
    "## Distribusi Numerik"
   ]
  },
  {
   "cell_type": "markdown",
   "id": "366bf999-effa-4f5c-996b-df10e69d7758",
   "metadata": {
    "tags": []
   },
   "source": [
    "## KDE Plot"
   ]
  },
  {
   "cell_type": "code",
   "execution_count": 26,
   "id": "1f8f032a-c1ff-4ad2-94c5-3cd9b7c12a01",
   "metadata": {},
   "outputs": [
    {
     "data": {
      "image/png": "[encoded data removed]",
      "text/plain": [
       "<Figure size 432x288 with 1 Axes>"
      ]
     },
     "metadata": {
      "needs_background": "light"
     },
     "output_type": "display_data"
    },
    {
     "data": {
      "text/plain": [
       "<Figure size 216x216 with 0 Axes>"
      ]
     },
     "metadata": {},
     "output_type": "display_data"
    },
    {
     "data": {
      "image/png": "[encoded data removed]",
      "text/plain": [
       "<Figure size 432x288 with 1 Axes>"
      ]
     },
     "metadata": {
      "needs_background": "light"
     },
     "output_type": "display_data"
    },
    {
     "data": {
      "text/plain": [
       "<Figure size 216x216 with 0 Axes>"
      ]
     },
     "metadata": {},
     "output_type": "display_data"
    },
    {
     "data": {
      "image/png": "[encoded data removed]",
      "text/plain": [
       "<Figure size 432x288 with 1 Axes>"
      ]
     },
     "metadata": {
      "needs_background": "light"
     },
     "output_type": "display_data"
    },
    {
     "data": {
      "text/plain": [
       "<Figure size 216x216 with 0 Axes>"
      ]
     },
     "metadata": {},
     "output_type": "display_data"
    },
    {
     "data": {
      "image/png": "[encoded data removed]",
      "text/plain": [
       "<Figure size 432x288 with 1 Axes>"
      ]
     },
     "metadata": {
      "needs_background": "light"
     },
     "output_type": "display_data"
    },
    {
     "data": {
      "text/plain": [
       "<Figure size 216x216 with 0 Axes>"
      ]
     },
     "metadata": {},
     "output_type": "display_data"
    },
    {
     "data": {
      "image/png": "[encoded data removed]",
      "text/plain": [
       "<Figure size 432x288 with 1 Axes>"
      ]
     },
     "metadata": {
      "needs_background": "light"
     },
     "output_type": "display_data"
    },
    {
     "data": {
      "text/plain": [
       "<Figure size 216x216 with 0 Axes>"
      ]
     },
     "metadata": {},
     "output_type": "display_data"
    },
    {
     "data": {
      "image/png": "[encoded data removed]",
      "text/plain": [
       "<Figure size 432x288 with 1 Axes>"
      ]
     },
     "metadata": {
      "needs_background": "light"
     },
     "output_type": "display_data"
    },
    {
     "data": {
      "text/plain": [
       "<Figure size 216x216 with 0 Axes>"
      ]
     },
     "metadata": {},
     "output_type": "display_data"
    },
    {
     "data": {
      "image/png": "[encoded data removed]",
      "text/plain": [
       "<Figure size 432x288 with 1 Axes>"
      ]
     },
     "metadata": {
      "needs_background": "light"
     },
     "output_type": "display_data"
    },
    {
     "data": {
      "text/plain": [
       "<Figure size 216x216 with 0 Axes>"
      ]
     },
     "metadata": {},
     "output_type": "display_data"
    },
    {
     "data": {
      "image/png": "[encoded data removed]",
      "text/plain": [
       "<Figure size 432x288 with 1 Axes>"
      ]
     },
     "metadata": {
      "needs_background": "light"
     },
     "output_type": "display_data"
    },
    {
     "data": {
      "text/plain": [
       "<Figure size 216x216 with 0 Axes>"
      ]
     },
     "metadata": {},
     "output_type": "display_data"
    },
    {
     "data": {
      "image/png": "[encoded data removed]",
      "text/plain": [
       "<Figure size 432x288 with 1 Axes>"
      ]
     },
     "metadata": {
      "needs_background": "light"
     },
     "output_type": "display_data"
    },
    {
     "data": {
      "text/plain": [
       "<Figure size 216x216 with 0 Axes>"
      ]
     },
     "metadata": {},
     "output_type": "display_data"
    },
    {
     "data": {
      "image/png": "[encoded data removed]",
      "text/plain": [
       "<Figure size 432x288 with 1 Axes>"
      ]
     },
     "metadata": {
      "needs_background": "light"
     },
     "output_type": "display_data"
    },
    {
     "data": {
      "text/plain": [
       "<Figure size 216x216 with 0 Axes>"
      ]
     },
     "metadata": {},
     "output_type": "display_data"
    },
    {
     "data": {
      "image/png": "[encoded data removed]",
      "text/plain": [
       "<Figure size 432x288 with 1 Axes>"
      ]
     },
     "metadata": {
      "needs_background": "light"
     },
     "output_type": "display_data"
    },
    {
     "data": {
      "text/plain": [
       "<Figure size 216x216 with 0 Axes>"
      ]
     },
     "metadata": {},
     "output_type": "display_data"
    },
    {
     "data": {
      "image/png": "[encoded data removed]",
      "text/plain": [
       "<Figure size 432x288 with 1 Axes>"
      ]
     },
     "metadata": {
      "needs_background": "light"
     },
     "output_type": "display_data"
    },
    {
     "data": {
      "text/plain": [
       "<Figure size 216x216 with 0 Axes>"
      ]
     },
     "metadata": {},
     "output_type": "display_data"
    },
    {
     "data": {
      "image/png": "[encoded data removed]",
      "text/plain": [
       "<Figure size 432x288 with 1 Axes>"
      ]
     },
     "metadata": {
      "needs_background": "light"
     },
     "output_type": "display_data"
    },
    {
     "data": {
      "text/plain": [
       "<Figure size 216x216 with 0 Axes>"
      ]
     },
     "metadata": {},
     "output_type": "display_data"
    }
   ],
   "source": [
    "    for j in range (0,len(numeric)):\n",
    "        num = numeric[j]\n",
    "        sns.kdeplot(x=df[num])\n",
    "        plt.figure(figsize=(3,3))\n",
    "        plt.show()"
   ]
  },
  {
   "cell_type": "markdown",
   "id": "bccc2f21-ab02-462e-a4d1-97a121891463",
   "metadata": {},
   "source": [
    "**Data Insight**\n",
    "\n",
    "1. distribusi kolom rata-rata memiliki skew positive yang ekstrim"
   ]
  },
  {
   "cell_type": "markdown",
   "id": "29a6eb8e-51ae-455a-9632-bd2b194b7f25",
   "metadata": {
    "tags": []
   },
   "source": [
    "## Box Plot"
   ]
  },
  {
   "cell_type": "code",
   "execution_count": 27,
   "id": "55339784-6139-476b-99dd-3dccde6ee775",
   "metadata": {},
   "outputs": [
    {
     "data": {
      "image/png": "[encoded data removed]",
      "text/plain": [
       "<Figure size 432x288 with 1 Axes>"
      ]
     },
     "metadata": {
      "needs_background": "light"
     },
     "output_type": "display_data"
    },
    {
     "data": {
      "text/plain": [
       "<Figure size 216x216 with 0 Axes>"
      ]
     },
     "metadata": {},
     "output_type": "display_data"
    },
    {
     "data": {
      "image/png": "[encoded data removed]",
      "text/plain": [
       "<Figure size 432x288 with 1 Axes>"
      ]
     },
     "metadata": {
      "needs_background": "light"
     },
     "output_type": "display_data"
    },
    {
     "data": {
      "text/plain": [
       "<Figure size 216x216 with 0 Axes>"
      ]
     },
     "metadata": {},
     "output_type": "display_data"
    },
    {
     "data": {
      "image/png": "[encoded data removed]",
      "text/plain": [
       "<Figure size 432x288 with 1 Axes>"
      ]
     },
     "metadata": {
      "needs_background": "light"
     },
     "output_type": "display_data"
    },
    {
     "data": {
      "text/plain": [
       "<Figure size 216x216 with 0 Axes>"
      ]
     },
     "metadata": {},
     "output_type": "display_data"
    },
    {
     "data": {
      "image/png": "[encoded data removed]",
      "text/plain": [
       "<Figure size 432x288 with 1 Axes>"
      ]
     },
     "metadata": {
      "needs_background": "light"
     },
     "output_type": "display_data"
    },
    {
     "data": {
      "text/plain": [
       "<Figure size 216x216 with 0 Axes>"
      ]
     },
     "metadata": {},
     "output_type": "display_data"
    },
    {
     "data": {
      "image/png": "[encoded data removed]",
      "text/plain": [
       "<Figure size 432x288 with 1 Axes>"
      ]
     },
     "metadata": {
      "needs_background": "light"
     },
     "output_type": "display_data"
    },
    {
     "data": {
      "text/plain": [
       "<Figure size 216x216 with 0 Axes>"
      ]
     },
     "metadata": {},
     "output_type": "display_data"
    },
    {
     "data": {
      "image/png": "[encoded data removed]",
      "text/plain": [
       "<Figure size 432x288 with 1 Axes>"
      ]
     },
     "metadata": {
      "needs_background": "light"
     },
     "output_type": "display_data"
    },
    {
     "data": {
      "text/plain": [
       "<Figure size 216x216 with 0 Axes>"
      ]
     },
     "metadata": {},
     "output_type": "display_data"
    },
    {
     "data": {
      "image/png": "[encoded data removed]",
      "text/plain": [
       "<Figure size 432x288 with 1 Axes>"
      ]
     },
     "metadata": {
      "needs_background": "light"
     },
     "output_type": "display_data"
    },
    {
     "data": {
      "text/plain": [
       "<Figure size 216x216 with 0 Axes>"
      ]
     },
     "metadata": {},
     "output_type": "display_data"
    },
    {
     "data": {
      "image/png": "[encoded data removed]",
      "text/plain": [
       "<Figure size 432x288 with 1 Axes>"
      ]
     },
     "metadata": {
      "needs_background": "light"
     },
     "output_type": "display_data"
    },
    {
     "data": {
      "text/plain": [
       "<Figure size 216x216 with 0 Axes>"
      ]
     },
     "metadata": {},
     "output_type": "display_data"
    },
    {
     "data": {
      "image/png": "[encoded data removed]",
      "text/plain": [
       "<Figure size 432x288 with 1 Axes>"
      ]
     },
     "metadata": {
      "needs_background": "light"
     },
     "output_type": "display_data"
    },
    {
     "data": {
      "text/plain": [
       "<Figure size 216x216 with 0 Axes>"
      ]
     },
     "metadata": {},
     "output_type": "display_data"
    },
    {
     "data": {
      "image/png": "[encoded data removed]",
      "text/plain": [
       "<Figure size 432x288 with 1 Axes>"
      ]
     },
     "metadata": {
      "needs_background": "light"
     },
     "output_type": "display_data"
    },
    {
     "data": {
      "text/plain": [
       "<Figure size 216x216 with 0 Axes>"
      ]
     },
     "metadata": {},
     "output_type": "display_data"
    },
    {
     "data": {
      "image/png": "[encoded data removed]",
      "text/plain": [
       "<Figure size 432x288 with 1 Axes>"
      ]
     },
     "metadata": {
      "needs_background": "light"
     },
     "output_type": "display_data"
    },
    {
     "data": {
      "text/plain": [
       "<Figure size 216x216 with 0 Axes>"
      ]
     },
     "metadata": {},
     "output_type": "display_data"
    },
    {
     "data": {
      "image/png": "[encoded data removed]",
      "text/plain": [
       "<Figure size 432x288 with 1 Axes>"
      ]
     },
     "metadata": {
      "needs_background": "light"
     },
     "output_type": "display_data"
    },
    {
     "data": {
      "text/plain": [
       "<Figure size 216x216 with 0 Axes>"
      ]
     },
     "metadata": {},
     "output_type": "display_data"
    },
    {
     "data": {
      "image/png": "[encoded data removed]",
      "text/plain": [
       "<Figure size 432x288 with 1 Axes>"
      ]
     },
     "metadata": {
      "needs_background": "light"
     },
     "output_type": "display_data"
    },
    {
     "data": {
      "text/plain": [
       "<Figure size 216x216 with 0 Axes>"
      ]
     },
     "metadata": {},
     "output_type": "display_data"
    }
   ],
   "source": [
    "for j in range (0,len(numeric)):\n",
    "    num = numeric[j]\n",
    "    sns.boxplot(y=df[num])\n",
    "    plt.figure(figsize=(3,3))\n",
    "    plt.show()"
   ]
  },
  {
   "cell_type": "markdown",
   "id": "842a4ac7-11c1-44f0-8ff0-23ebe3758e98",
   "metadata": {
    "jp-MarkdownHeadingCollapsed": true,
    "tags": []
   },
   "source": [
    "# Feature Engineering"
   ]
  },
  {
   "cell_type": "markdown",
   "id": "3c29f791-e4f5-4fcf-ac3c-add8f3f46099",
   "metadata": {},
   "source": [
    "## Recency"
   ]
  },
  {
   "cell_type": "code",
   "execution_count": 59,
   "id": "c94d4416-dda9-42e9-84a7-c8e3f4249581",
   "metadata": {},
   "outputs": [
    {
     "name": "stdout",
     "output_type": "stream",
     "text": [
      "<class 'pandas.core.frame.DataFrame'>\n",
      "Int64Index: 62437 entries, 0 to 62986\n",
      "Data columns (total 26 columns):\n",
      " #   Column             Non-Null Count  Dtype         \n",
      "---  ------             --------------  -----         \n",
      " 0   MEMBER_NO          62437 non-null  int64         \n",
      " 1   FFP_DATE           62437 non-null  datetime64[ns]\n",
      " 2   FIRST_FLIGHT_DATE  62437 non-null  datetime64[ns]\n",
      " 3   GENDER             62434 non-null  object        \n",
      " 4   FFP_TIER           62437 non-null  int64         \n",
      " 5   WORK_CITY          60180 non-null  object        \n",
      " 6   WORK_PROVINCE      59210 non-null  object        \n",
      " 7   WORK_COUNTRY       62411 non-null  object        \n",
      " 8   AGE                62021 non-null  float64       \n",
      " 9   LOAD_TIME          62437 non-null  object        \n",
      " 10  FLIGHT_COUNT       62437 non-null  int64         \n",
      " 11  BP_SUM             62437 non-null  int64         \n",
      " 12  SUM_YR_1           62437 non-null  float64       \n",
      " 13  SUM_YR_2           62299 non-null  float64       \n",
      " 14  SEG_KM_SUM         62437 non-null  int64         \n",
      " 15  LAST_FLIGHT_DATE   62437 non-null  datetime64[ns]\n",
      " 16  LAST_TO_END        62437 non-null  int64         \n",
      " 17  AVG_INTERVAL       62437 non-null  float64       \n",
      " 18  MAX_INTERVAL       62437 non-null  int64         \n",
      " 19  EXCHANGE_COUNT     62437 non-null  int64         \n",
      " 20  avg_discount       62437 non-null  float64       \n",
      " 21  Points_Sum         62437 non-null  int64         \n",
      " 22  Point_NotFlight    62437 non-null  int64         \n",
      " 23  recency            62437 non-null  int64         \n",
      " 24  frequent           62437 non-null  int64         \n",
      " 25  monetary           62437 non-null  float64       \n",
      "dtypes: datetime64[ns](3), float64(6), int64(12), object(5)\n",
      "memory usage: 12.9+ MB\n"
     ]
    }
   ],
   "source": [
    "df.info()"
   ]
  },
  {
   "cell_type": "code",
   "execution_count": 60,
   "id": "4a683f05-7d4b-44db-803c-b4ed14ffc02e",
   "metadata": {},
   "outputs": [],
   "source": [
    "max_date = max(df['LAST_FLIGHT_DATE'])"
   ]
  },
  {
   "cell_type": "code",
   "execution_count": 61,
   "id": "ced14ff7-ca89-4785-b251-6af910b2ba2b",
   "metadata": {},
   "outputs": [],
   "source": [
    "df['recency'] = df['LAST_FLIGHT_DATE'].apply(lambda x:(max_date-x).days)"
   ]
  },
  {
   "cell_type": "code",
   "execution_count": 62,
   "id": "f0e7daf0-0a5d-4d21-b7da-e4893f11b11c",
   "metadata": {},
   "outputs": [
    {
     "data": {
      "text/plain": [
       "count    62437.000000\n",
       "mean       171.162660\n",
       "std        180.884817\n",
       "min          0.000000\n",
       "25%         28.000000\n",
       "50%        104.000000\n",
       "75%        259.000000\n",
       "max        729.000000\n",
       "Name: recency, dtype: float64"
      ]
     },
     "execution_count": 62,
     "metadata": {},
     "output_type": "execute_result"
    }
   ],
   "source": [
    "df['recency'].describe()"
   ]
  },
  {
   "cell_type": "markdown",
   "id": "bf8f10cd-db36-4785-a913-b7a9c30cb425",
   "metadata": {},
   "source": [
    "## Frequency"
   ]
  },
  {
   "cell_type": "code",
   "execution_count": 63,
   "id": "20716cef-48af-4ad0-8b2c-8a70b9197161",
   "metadata": {},
   "outputs": [],
   "source": [
    "df['frequency'] = df['FLIGHT_COUNT']"
   ]
  },
  {
   "cell_type": "code",
   "execution_count": 64,
   "id": "5d1570cc-49ca-4246-b739-648b2ddb68a4",
   "metadata": {},
   "outputs": [
    {
     "data": {
      "text/plain": [
       "count    62437.000000\n",
       "mean        11.920160\n",
       "std         14.083226\n",
       "min          2.000000\n",
       "25%          3.000000\n",
       "50%          7.000000\n",
       "75%         15.000000\n",
       "max        213.000000\n",
       "Name: frequent, dtype: float64"
      ]
     },
     "execution_count": 64,
     "metadata": {},
     "output_type": "execute_result"
    }
   ],
   "source": [
    "df['frequent'].describe()"
   ]
  },
  {
   "cell_type": "markdown",
   "id": "a9d21582-c194-44bf-99c8-2ac847ba6b68",
   "metadata": {},
   "source": [
    "## Monetary"
   ]
  },
  {
   "cell_type": "code",
   "execution_count": 65,
   "id": "e3f85353-4002-423a-99ee-664844812768",
   "metadata": {},
   "outputs": [],
   "source": [
    "df['monetary'] = df['SUM_YR_1']"
   ]
  },
  {
   "cell_type": "markdown",
   "id": "13410186-c352-419b-ba21-a58d78408ac7",
   "metadata": {
    "jp-MarkdownHeadingCollapsed": true,
    "tags": []
   },
   "source": [
    "# Data Preprocessing"
   ]
  },
  {
   "cell_type": "markdown",
   "id": "d33e78e8-d321-4294-a962-b0b17b8ffc26",
   "metadata": {},
   "source": [
    "## Handling Missing Value"
   ]
  },
  {
   "cell_type": "code",
   "execution_count": 66,
   "id": "f87ff918-d594-41d8-9350-69e3b0cee8ba",
   "metadata": {},
   "outputs": [],
   "source": [
    "feature = ['recency','frequency','monetary']"
   ]
  },
  {
   "cell_type": "code",
   "execution_count": 67,
   "id": "9046e630-5a6b-4ee9-899f-44a44eb17b14",
   "metadata": {},
   "outputs": [
    {
     "data": {
      "text/plain": [
       "recency      0\n",
       "frequency    0\n",
       "monetary     0\n",
       "dtype: int64"
      ]
     },
     "execution_count": 67,
     "metadata": {},
     "output_type": "execute_result"
    }
   ],
   "source": [
    "df[feature].isnull().sum()"
   ]
  },
  {
   "cell_type": "code",
   "execution_count": 68,
   "id": "af73b105-cf9c-4929-a348-9b06f5f93c97",
   "metadata": {},
   "outputs": [],
   "source": [
    "df.dropna(subset=feature,inplace=True)"
   ]
  },
  {
   "cell_type": "code",
   "execution_count": 69,
   "id": "c94452b6-6268-45ff-906d-c568e04c2d78",
   "metadata": {},
   "outputs": [
    {
     "data": {
      "text/plain": [
       "recency      0\n",
       "frequency    0\n",
       "monetary     0\n",
       "dtype: int64"
      ]
     },
     "execution_count": 69,
     "metadata": {},
     "output_type": "execute_result"
    }
   ],
   "source": [
    "df[feature].isnull().sum()"
   ]
  },
  {
   "cell_type": "markdown",
   "id": "7f4ab7b6-be5d-49de-8f14-a38e62295e2b",
   "metadata": {},
   "source": [
    "## Handling Outlier"
   ]
  },
  {
   "cell_type": "code",
   "execution_count": 58,
   "id": "ec14c906-b32c-475e-8811-5e65e5e63fd8",
   "metadata": {},
   "outputs": [
    {
     "data": {
      "image/png": "[encoded data removed]",
      "text/plain": [
       "<Figure size 432x288 with 1 Axes>"
      ]
     },
     "metadata": {
      "needs_background": "light"
     },
     "output_type": "display_data"
    },
    {
     "data": {
      "text/plain": [
       "<Figure size 216x216 with 0 Axes>"
      ]
     },
     "metadata": {},
     "output_type": "display_data"
    },
    {
     "data": {
      "image/png": "[encoded data removed]",
      "text/plain": [
       "<Figure size 432x288 with 1 Axes>"
      ]
     },
     "metadata": {
      "needs_background": "light"
     },
     "output_type": "display_data"
    },
    {
     "data": {
      "text/plain": [
       "<Figure size 216x216 with 0 Axes>"
      ]
     },
     "metadata": {},
     "output_type": "display_data"
    },
    {
     "data": {
      "image/png": "[encoded data removed]",
      "text/plain": [
       "<Figure size 432x288 with 1 Axes>"
      ]
     },
     "metadata": {
      "needs_background": "light"
     },
     "output_type": "display_data"
    },
    {
     "data": {
      "text/plain": [
       "<Figure size 216x216 with 0 Axes>"
      ]
     },
     "metadata": {},
     "output_type": "display_data"
    }
   ],
   "source": [
    "for j in range (0,len(feature)):\n",
    "    num = feature[j]\n",
    "    sns.boxplot(y=df[num])\n",
    "    plt.figure(figsize=(3,3))\n",
    "    plt.show()"
   ]
  },
  {
   "cell_type": "markdown",
   "id": "545bda7b-04c3-45f1-a5c1-3991d62edccc",
   "metadata": {},
   "source": [
    "### IQR"
   ]
  },
  {
   "cell_type": "code",
   "execution_count": 72,
   "id": "8217312a-37fb-47d3-9e82-63af7787c00d",
   "metadata": {},
   "outputs": [
    {
     "data": {
      "text/plain": [
       "60278"
      ]
     },
     "execution_count": 72,
     "metadata": {},
     "output_type": "execute_result"
    }
   ],
   "source": [
    "Q1 = df['recency'].quantile(0.25)\n",
    "Q3 = df['recency'].quantile(0.75)\n",
    "IQR = Q3-Q1\n",
    "low_limit = Q1 - (1.5*IQR)\n",
    "high_limit = Q3 + (1.5*IQR)\n",
    "filtered_entries = ((df['recency']>=low_limit)&(df['recency']<=high_limit))\n",
    "df_clean_IQR = df\n",
    "df_clean_IQR = df_clean_IQR[filtered_entries]\n",
    "df_clean_IQR.shape[0]"
   ]
  },
  {
   "cell_type": "code",
   "execution_count": 73,
   "id": "7cb6b12e-c9d9-4a82-b1d3-b473b00278bb",
   "metadata": {},
   "outputs": [
    {
     "data": {
      "text/plain": [
       "55431"
      ]
     },
     "execution_count": 73,
     "metadata": {},
     "output_type": "execute_result"
    }
   ],
   "source": [
    "Q1 = df_clean_IQR['frequency'].quantile(0.25)\n",
    "Q3 = df_clean_IQR['frequency'].quantile(0.75)\n",
    "IQR = Q3-Q1\n",
    "low_limit = Q1 - (1.5*IQR)\n",
    "high_limit = Q3 + (1.5*IQR)\n",
    "filtered_entries = ((df_clean_IQR['frequency']>=low_limit)&(df_clean_IQR['frequency']<=high_limit))\n",
    "df_clean_IQR = df_clean_IQR[filtered_entries]\n",
    "df_clean_IQR.shape[0]"
   ]
  },
  {
   "cell_type": "code",
   "execution_count": 74,
   "id": "b0993736-b5bb-4e77-b9cc-18448deca975",
   "metadata": {},
   "outputs": [
    {
     "data": {
      "text/plain": [
       "52407"
      ]
     },
     "execution_count": 74,
     "metadata": {},
     "output_type": "execute_result"
    }
   ],
   "source": [
    "Q1 = df_clean_IQR['monetary'].quantile(0.25)\n",
    "Q3 = df_clean_IQR['monetary'].quantile(0.75)\n",
    "IQR = Q3-Q1\n",
    "low_limit = Q1 - (1.5*IQR)\n",
    "high_limit = Q3 + (1.5*IQR)\n",
    "filtered_entries = ((df_clean_IQR['monetary']>=low_limit)&(df_clean_IQR['monetary']<=high_limit))\n",
    "df_clean_IQR = df_clean_IQR[filtered_entries]\n",
    "df_clean_IQR.shape[0]"
   ]
  },
  {
   "cell_type": "code",
   "execution_count": 75,
   "id": "cabb09b8-33b6-4cec-a642-2b42b1c785d9",
   "metadata": {},
   "outputs": [
    {
     "data": {
      "image/png": "[encoded data removed]",
      "text/plain": [
       "<Figure size 432x288 with 1 Axes>"
      ]
     },
     "metadata": {
      "needs_background": "light"
     },
     "output_type": "display_data"
    },
    {
     "data": {
      "text/plain": [
       "<Figure size 216x216 with 0 Axes>"
      ]
     },
     "metadata": {},
     "output_type": "display_data"
    },
    {
     "data": {
      "image/png": "[encoded data removed]",
      "text/plain": [
       "<Figure size 432x288 with 1 Axes>"
      ]
     },
     "metadata": {
      "needs_background": "light"
     },
     "output_type": "display_data"
    },
    {
     "data": {
      "text/plain": [
       "<Figure size 216x216 with 0 Axes>"
      ]
     },
     "metadata": {},
     "output_type": "display_data"
    },
    {
     "data": {
      "image/png": "[encoded data removed]",
      "text/plain": [
       "<Figure size 432x288 with 1 Axes>"
      ]
     },
     "metadata": {
      "needs_background": "light"
     },
     "output_type": "display_data"
    },
    {
     "data": {
      "text/plain": [
       "<Figure size 216x216 with 0 Axes>"
      ]
     },
     "metadata": {},
     "output_type": "display_data"
    }
   ],
   "source": [
    "for j in range (0,len(feature)):\n",
    "    num = feature[j]\n",
    "    sns.boxplot(y=df_clean_IQR[num])\n",
    "    plt.figure(figsize=(3,3))\n",
    "    plt.show()"
   ]
  },
  {
   "cell_type": "markdown",
   "id": "6a74c091-980d-4af1-82a5-f0aeb2a20adc",
   "metadata": {},
   "source": [
    "**Data Insight**\n",
    "\n",
    "outlier sudah berkurang"
   ]
  },
  {
   "cell_type": "code",
   "execution_count": 78,
   "id": "e74c4f31-cd29-4122-96b0-8a8a87667549",
   "metadata": {},
   "outputs": [
    {
     "data": {
      "image/png": "[encoded data removed]",
      "text/plain": [
       "<Figure size 432x288 with 1 Axes>"
      ]
     },
     "metadata": {
      "needs_background": "light"
     },
     "output_type": "display_data"
    },
    {
     "data": {
      "text/plain": [
       "<Figure size 216x216 with 0 Axes>"
      ]
     },
     "metadata": {},
     "output_type": "display_data"
    },
    {
     "data": {
      "image/png": "[encoded data removed]",
      "text/plain": [
       "<Figure size 432x288 with 1 Axes>"
      ]
     },
     "metadata": {
      "needs_background": "light"
     },
     "output_type": "display_data"
    },
    {
     "data": {
      "text/plain": [
       "<Figure size 216x216 with 0 Axes>"
      ]
     },
     "metadata": {},
     "output_type": "display_data"
    },
    {
     "data": {
      "image/png": "[encoded data removed]",
      "text/plain": [
       "<Figure size 432x288 with 1 Axes>"
      ]
     },
     "metadata": {
      "needs_background": "light"
     },
     "output_type": "display_data"
    },
    {
     "data": {
      "text/plain": [
       "<Figure size 216x216 with 0 Axes>"
      ]
     },
     "metadata": {},
     "output_type": "display_data"
    }
   ],
   "source": [
    "for j in range (0,len(feature)):\n",
    "    num = feature[j]\n",
    "    sns.kdeplot(x=df_clean_IQR[num])\n",
    "    plt.figure(figsize=(3,3))\n",
    "    plt.show()"
   ]
  },
  {
   "cell_type": "markdown",
   "id": "4499d3a5-c3f6-4e77-9b52-9bd2268f7873",
   "metadata": {
    "jp-MarkdownHeadingCollapsed": true,
    "tags": []
   },
   "source": [
    "# Modeling"
   ]
  },
  {
   "cell_type": "markdown",
   "id": "2326e823-0ff2-49a7-ae57-202f51ca8fcf",
   "metadata": {
    "jp-MarkdownHeadingCollapsed": true,
    "tags": []
   },
   "source": [
    "## RFM"
   ]
  },
  {
   "cell_type": "code",
   "execution_count": 76,
   "id": "f393dba8-055a-4a01-a09d-081e956ec222",
   "metadata": {},
   "outputs": [],
   "source": [
    "rfm_df = df[feature]"
   ]
  },
  {
   "cell_type": "code",
   "execution_count": 81,
   "id": "690d480d-7ed9-4948-a359-3ea55a0e4393",
   "metadata": {},
   "outputs": [
    {
     "data": {
      "text/html": [
       "<div>\n",
       "<style scoped>\n",
       "    .dataframe tbody tr th:only-of-type {\n",
       "        vertical-align: middle;\n",
       "    }\n",
       "\n",
       "    .dataframe tbody tr th {\n",
       "        vertical-align: top;\n",
       "    }\n",
       "\n",
       "    .dataframe thead th {\n",
       "        text-align: right;\n",
       "    }\n",
       "</style>\n",
       "<table border=\"1\" class=\"dataframe\">\n",
       "  <thead>\n",
       "    <tr style=\"text-align: right;\">\n",
       "      <th></th>\n",
       "      <th>recency</th>\n",
       "      <th>frequency</th>\n",
       "      <th>monetary</th>\n",
       "    </tr>\n",
       "  </thead>\n",
       "  <tbody>\n",
       "    <tr>\n",
       "      <th>0</th>\n",
       "      <td>0</td>\n",
       "      <td>210</td>\n",
       "      <td>239560.0</td>\n",
       "    </tr>\n",
       "    <tr>\n",
       "      <th>1</th>\n",
       "      <td>6</td>\n",
       "      <td>140</td>\n",
       "      <td>171483.0</td>\n",
       "    </tr>\n",
       "    <tr>\n",
       "      <th>2</th>\n",
       "      <td>10</td>\n",
       "      <td>135</td>\n",
       "      <td>163618.0</td>\n",
       "    </tr>\n",
       "    <tr>\n",
       "      <th>3</th>\n",
       "      <td>95</td>\n",
       "      <td>23</td>\n",
       "      <td>116350.0</td>\n",
       "    </tr>\n",
       "    <tr>\n",
       "      <th>4</th>\n",
       "      <td>4</td>\n",
       "      <td>152</td>\n",
       "      <td>124560.0</td>\n",
       "    </tr>\n",
       "    <tr>\n",
       "      <th>...</th>\n",
       "      <td>...</td>\n",
       "      <td>...</td>\n",
       "      <td>...</td>\n",
       "    </tr>\n",
       "    <tr>\n",
       "      <th>62982</th>\n",
       "      <td>435</td>\n",
       "      <td>2</td>\n",
       "      <td>0.0</td>\n",
       "    </tr>\n",
       "    <tr>\n",
       "      <th>62983</th>\n",
       "      <td>295</td>\n",
       "      <td>2</td>\n",
       "      <td>0.0</td>\n",
       "    </tr>\n",
       "    <tr>\n",
       "      <th>62984</th>\n",
       "      <td>87</td>\n",
       "      <td>4</td>\n",
       "      <td>0.0</td>\n",
       "    </tr>\n",
       "    <tr>\n",
       "      <th>62985</th>\n",
       "      <td>28</td>\n",
       "      <td>2</td>\n",
       "      <td>0.0</td>\n",
       "    </tr>\n",
       "    <tr>\n",
       "      <th>62986</th>\n",
       "      <td>398</td>\n",
       "      <td>2</td>\n",
       "      <td>0.0</td>\n",
       "    </tr>\n",
       "  </tbody>\n",
       "</table>\n",
       "<p>62437 rows × 3 columns</p>\n",
       "</div>"
      ],
      "text/plain": [
       "       recency  frequency  monetary\n",
       "0            0        210  239560.0\n",
       "1            6        140  171483.0\n",
       "2           10        135  163618.0\n",
       "3           95         23  116350.0\n",
       "4            4        152  124560.0\n",
       "...        ...        ...       ...\n",
       "62982      435          2       0.0\n",
       "62983      295          2       0.0\n",
       "62984       87          4       0.0\n",
       "62985       28          2       0.0\n",
       "62986      398          2       0.0\n",
       "\n",
       "[62437 rows x 3 columns]"
      ]
     },
     "execution_count": 81,
     "metadata": {},
     "output_type": "execute_result"
    }
   ],
   "source": [
    "rfm_df"
   ]
  },
  {
   "cell_type": "code",
   "execution_count": 82,
   "id": "02c0eb56-d02d-4c9b-9cd0-6677d751e57f",
   "metadata": {},
   "outputs": [],
   "source": [
    "from sklearn.preprocessing import StandardScaler\n",
    "# scaling using standardization\n",
    "scaler = StandardScaler()\n",
    "scaler.fit(rfm_df['recency'].values.reshape(-1, 1))\n",
    "rfm_df['recency'] = scaler.transform(rfm_df['recency'].values.reshape(-1, 1))\n",
    "\n",
    "scaler = StandardScaler()\n",
    "scaler.fit(rfm_df['frequency'].values.reshape(-1, 1))\n",
    "rfm_df['frequency'] = scaler.transform(rfm_df['frequency'].values.reshape(-1, 1))\n",
    "\n",
    "\n",
    "scaler = StandardScaler()\n",
    "scaler.fit(rfm_df['monetary'].values.reshape(-1, 1))\n",
    "rfm_df['monetary'] = scaler.transform(rfm_df['monetary'].values.reshape(-1, 1))"
   ]
  },
  {
   "cell_type": "code",
   "execution_count": 84,
   "id": "4aaa90e5-9fc6-4c3b-bfad-3ddd307c83ff",
   "metadata": {},
   "outputs": [
    {
     "data": {
      "image/png": "[encoded data removed]",
      "text/plain": [
       "<Figure size 576x396 with 1 Axes>"
      ]
     },
     "metadata": {},
     "output_type": "display_data"
    }
   ],
   "source": [
    "from sklearn.cluster import KMeans\n",
    "SSE = []\n",
    "for k in range(0,10):\n",
    "    kmeans = KMeans(n_clusters=k+1,random_state=43).fit(rfm_df)\n",
    "    SSE.append(kmeans.inertia_)\n",
    "sns.pointplot(x=list(range(1,11)),y=SSE)\n",
    "plt.show()"
   ]
  },
  {
   "cell_type": "code",
   "execution_count": 85,
   "id": "4671807f-6b6e-4de1-9146-b675d0351e1d",
   "metadata": {},
   "outputs": [
    {
     "data": {
      "image/png": "[encoded data removed]",
      "text/plain": [
       "<Figure size 576x396 with 1 Axes>"
      ]
     },
     "metadata": {},
     "output_type": "display_data"
    },
    {
     "data": {
      "text/html": [
       "<style>#sk-container-id-2 {color: black;background-color: white;}#sk-container-id-2 pre{padding: 0;}#sk-container-id-2 div.sk-toggleable {background-color: white;}#sk-container-id-2 label.sk-toggleable__label {cursor: pointer;display: block;width: 100%;margin-bottom: 0;padding: 0.3em;box-sizing: border-box;text-align: center;}#sk-container-id-2 label.sk-toggleable__label-arrow:before {content: \"▸\";float: left;margin-right: 0.25em;color: #696969;}#sk-container-id-2 label.sk-toggleable__label-arrow:hover:before {color: black;}#sk-container-id-2 div.sk-estimator:hover label.sk-toggleable__label-arrow:before {color: black;}#sk-container-id-2 div.sk-toggleable__content {max-height: 0;max-width: 0;overflow: hidden;text-align: left;background-color: #f0f8ff;}#sk-container-id-2 div.sk-toggleable__content pre {margin: 0.2em;color: black;border-radius: 0.25em;background-color: #f0f8ff;}#sk-container-id-2 input.sk-toggleable__control:checked~div.sk-toggleable__content {max-height: 200px;max-width: 100%;overflow: auto;}#sk-container-id-2 input.sk-toggleable__control:checked~label.sk-toggleable__label-arrow:before {content: \"▾\";}#sk-container-id-2 div.sk-estimator input.sk-toggleable__control:checked~label.sk-toggleable__label {background-color: #d4ebff;}#sk-container-id-2 div.sk-label input.sk-toggleable__control:checked~label.sk-toggleable__label {background-color: #d4ebff;}#sk-container-id-2 input.sk-hidden--visually {border: 0;clip: rect(1px 1px 1px 1px);clip: rect(1px, 1px, 1px, 1px);height: 1px;margin: -1px;overflow: hidden;padding: 0;position: absolute;width: 1px;}#sk-container-id-2 div.sk-estimator {font-family: monospace;background-color: #f0f8ff;border: 1px dotted black;border-radius: 0.25em;box-sizing: border-box;margin-bottom: 0.5em;}#sk-container-id-2 div.sk-estimator:hover {background-color: #d4ebff;}#sk-container-id-2 div.sk-parallel-item::after {content: \"\";width: 100%;border-bottom: 1px solid gray;flex-grow: 1;}#sk-container-id-2 div.sk-label:hover label.sk-toggleable__label {background-color: #d4ebff;}#sk-container-id-2 div.sk-serial::before {content: \"\";position: absolute;border-left: 1px solid gray;box-sizing: border-box;top: 0;bottom: 0;left: 50%;z-index: 0;}#sk-container-id-2 div.sk-serial {display: flex;flex-direction: column;align-items: center;background-color: white;padding-right: 0.2em;padding-left: 0.2em;position: relative;}#sk-container-id-2 div.sk-item {position: relative;z-index: 1;}#sk-container-id-2 div.sk-parallel {display: flex;align-items: stretch;justify-content: center;background-color: white;position: relative;}#sk-container-id-2 div.sk-item::before, #sk-container-id-2 div.sk-parallel-item::before {content: \"\";position: absolute;border-left: 1px solid gray;box-sizing: border-box;top: 0;bottom: 0;left: 50%;z-index: -1;}#sk-container-id-2 div.sk-parallel-item {display: flex;flex-direction: column;z-index: 1;position: relative;background-color: white;}#sk-container-id-2 div.sk-parallel-item:first-child::after {align-self: flex-end;width: 50%;}#sk-container-id-2 div.sk-parallel-item:last-child::after {align-self: flex-start;width: 50%;}#sk-container-id-2 div.sk-parallel-item:only-child::after {width: 0;}#sk-container-id-2 div.sk-dashed-wrapped {border: 1px dashed gray;margin: 0 0.4em 0.5em 0.4em;box-sizing: border-box;padding-bottom: 0.4em;background-color: white;}#sk-container-id-2 div.sk-label label {font-family: monospace;font-weight: bold;display: inline-block;line-height: 1.2em;}#sk-container-id-2 div.sk-label-container {text-align: center;}#sk-container-id-2 div.sk-container {/* jupyter's `normalize.less` sets `[hidden] { display: none; }` but bootstrap.min.css set `[hidden] { display: none !important; }` so we also need the `!important` here to be able to override the default hidden behavior on the sphinx rendered scikit-learn.org. See: https://github.com/scikit-learn/scikit-learn/issues/21755 */display: inline-block !important;position: relative;}#sk-container-id-2 div.sk-text-repr-fallback {display: none;}</style><div id=\"sk-container-id-2\" class=\"sk-top-container\"><div class=\"sk-text-repr-fallback\"><pre>SilhouetteVisualizer(ax=&lt;AxesSubplot:title={&#x27;center&#x27;:&#x27;Silhouette Plot of KMeans Clustering for 62437 Samples in 4 Centers&#x27;}, xlabel=&#x27;silhouette coefficient values&#x27;, ylabel=&#x27;cluster label&#x27;&gt;,\n",
       "                     colors=&#x27;yellowbrick&#x27;,\n",
       "                     estimator=KMeans(n_clusters=4, random_state=43))</pre><b>In a Jupyter environment, please rerun this cell to show the HTML representation or trust the notebook. <br />On GitHub, the HTML representation is unable to render, please try loading this page with nbviewer.org.</b></div><div class=\"sk-container\" hidden><div class=\"sk-item sk-dashed-wrapped\"><div class=\"sk-label-container\"><div class=\"sk-label sk-toggleable\"><input class=\"sk-toggleable__control sk-hidden--visually\" id=\"sk-estimator-id-4\" type=\"checkbox\" ><label for=\"sk-estimator-id-4\" class=\"sk-toggleable__label sk-toggleable__label-arrow\">SilhouetteVisualizer</label><div class=\"sk-toggleable__content\"><pre>SilhouetteVisualizer(ax=&lt;AxesSubplot:title={&#x27;center&#x27;:&#x27;Silhouette Plot of KMeans Clustering for 62437 Samples in 4 Centers&#x27;}, xlabel=&#x27;silhouette coefficient values&#x27;, ylabel=&#x27;cluster label&#x27;&gt;,\n",
       "                     colors=&#x27;yellowbrick&#x27;,\n",
       "                     estimator=KMeans(n_clusters=4, random_state=43))</pre></div></div></div><div class=\"sk-parallel\"><div class=\"sk-parallel-item\"><div class=\"sk-item\"><div class=\"sk-label-container\"><div class=\"sk-label sk-toggleable\"><input class=\"sk-toggleable__control sk-hidden--visually\" id=\"sk-estimator-id-5\" type=\"checkbox\" ><label for=\"sk-estimator-id-5\" class=\"sk-toggleable__label sk-toggleable__label-arrow\">estimator: KMeans</label><div class=\"sk-toggleable__content\"><pre>KMeans(n_clusters=4, random_state=43)</pre></div></div></div><div class=\"sk-serial\"><div class=\"sk-item\"><div class=\"sk-estimator sk-toggleable\"><input class=\"sk-toggleable__control sk-hidden--visually\" id=\"sk-estimator-id-6\" type=\"checkbox\" ><label for=\"sk-estimator-id-6\" class=\"sk-toggleable__label sk-toggleable__label-arrow\">KMeans</label><div class=\"sk-toggleable__content\"><pre>KMeans(n_clusters=4, random_state=43)</pre></div></div></div></div></div></div></div></div></div></div>"
      ],
      "text/plain": [
       "SilhouetteVisualizer(ax=<AxesSubplot:title={'center':'Silhouette Plot of KMeans Clustering for 62437 Samples in 4 Centers'}, xlabel='silhouette coefficient values', ylabel='cluster label'>,\n",
       "                     colors='yellowbrick',\n",
       "                     estimator=KMeans(n_clusters=4, random_state=43))"
      ]
     },
     "execution_count": 85,
     "metadata": {},
     "output_type": "execute_result"
    }
   ],
   "source": [
    "from yellowbrick.cluster import silhouette_visualizer\n",
    "silhouette_visualizer(KMeans(4, random_state=43), rfm_df, colors='yellowbrick')"
   ]
  },
  {
   "cell_type": "markdown",
   "id": "04846e44-0ed7-46aa-a0cd-a6ed1d37c43e",
   "metadata": {
    "jp-MarkdownHeadingCollapsed": true,
    "tags": []
   },
   "source": [
    "## RFM Score"
   ]
  },
  {
   "cell_type": "code",
   "execution_count": 90,
   "id": "51d14e38-5b81-4091-a20e-78d8a9085019",
   "metadata": {},
   "outputs": [],
   "source": [
    "rfm = df[feature]"
   ]
  },
  {
   "cell_type": "code",
   "execution_count": 92,
   "id": "ced8d79a-d21a-4634-afe3-84002fabe614",
   "metadata": {},
   "outputs": [],
   "source": [
    "bins_recency = [0,np.quantile(rfm['recency'],.33),np.quantile(rfm['recency'],.66),np.quantile(rfm['recency'],1)]\n",
    "bins_frequency = [0,np.quantile(rfm['frequency'],.33),np.quantile(rfm['frequency'],.66),np.quantile(rfm['frequency'],1)]\n",
    "bins_monetary = [0,np.quantile(rfm['monetary'],.33),np.quantile(rfm['monetary'],.66),np.quantile(rfm['monetary'],1)]"
   ]
  },
  {
   "cell_type": "code",
   "execution_count": 96,
   "id": "ffc2107d-d672-44db-a306-eb4464f1307c",
   "metadata": {},
   "outputs": [],
   "source": [
    "rfm['recency_score']    = pd.cut(rfm['recency'], bins_recency, labels=[3, 2, 1], include_lowest=True)\n",
    "rfm['frequency_score']  = pd.cut(rfm['frequency'], bins_frequency, labels=[1, 2,3], include_lowest=True)\n",
    "rfm['monetary_score']   = pd.cut(rfm['monetary'], bins_monetary, labels=[1, 2, 3], include_lowest=True)"
   ]
  },
  {
   "cell_type": "code",
   "execution_count": 97,
   "id": "328a15f4-0816-4fe8-92ab-6bcd2ba3dc0b",
   "metadata": {},
   "outputs": [],
   "source": [
    "rfm['recency_score']    = rfm.recency_score.astype(int)\n",
    "rfm['frequency_score']  = rfm.frequency_score.astype(int)\n",
    "rfm['monetary_score']   = rfm.monetary_score.astype(int)\n",
    "rfm['rfm_score'] = rfm['recency_score'].map(str) + rfm['frequency_score'].map(str) + rfm['monetary_score'].map(str)"
   ]
  },
  {
   "cell_type": "code",
   "execution_count": 102,
   "id": "b4cd2536-4047-4d47-89dd-76130ae9030d",
   "metadata": {},
   "outputs": [],
   "source": [
    "rfm['rfm_score'] = rfm['rfm_score'].astype(int)"
   ]
  },
  {
   "cell_type": "code",
   "execution_count": 103,
   "id": "31e6c1e6-7b42-448d-880d-0c408fdea59d",
   "metadata": {},
   "outputs": [],
   "source": [
    "url2 = \"https://gitlab.com/priagungkhusuma/rfm_segmentation/-/raw/master/rfm_score_dim.csv\"\n",
    "rfm_score_reference = pd.read_csv(url2)"
   ]
  },
  {
   "cell_type": "code",
   "execution_count": 104,
   "id": "522e128a-3ae8-4c71-8e56-7437468f144f",
   "metadata": {},
   "outputs": [],
   "source": [
    "rfm = rfm.merge(rfm_score_reference,how='left',on='rfm_score')"
   ]
  },
  {
   "cell_type": "code",
   "execution_count": 105,
   "id": "4824a670-c177-454d-a5ca-ddee8d2ef2f3",
   "metadata": {},
   "outputs": [
    {
     "data": {
      "text/html": [
       "<div>\n",
       "<style scoped>\n",
       "    .dataframe tbody tr th:only-of-type {\n",
       "        vertical-align: middle;\n",
       "    }\n",
       "\n",
       "    .dataframe tbody tr th {\n",
       "        vertical-align: top;\n",
       "    }\n",
       "\n",
       "    .dataframe thead th {\n",
       "        text-align: right;\n",
       "    }\n",
       "</style>\n",
       "<table border=\"1\" class=\"dataframe\">\n",
       "  <thead>\n",
       "    <tr style=\"text-align: right;\">\n",
       "      <th></th>\n",
       "      <th>recency</th>\n",
       "      <th>frequency</th>\n",
       "      <th>monetary</th>\n",
       "      <th>recency_score</th>\n",
       "      <th>frequency_score</th>\n",
       "      <th>monetary_score</th>\n",
       "      <th>rfm_score</th>\n",
       "      <th>segment_name</th>\n",
       "    </tr>\n",
       "  </thead>\n",
       "  <tbody>\n",
       "    <tr>\n",
       "      <th>0</th>\n",
       "      <td>0</td>\n",
       "      <td>210</td>\n",
       "      <td>239560.0</td>\n",
       "      <td>3</td>\n",
       "      <td>3</td>\n",
       "      <td>3</td>\n",
       "      <td>333</td>\n",
       "      <td>CHAMPION</td>\n",
       "    </tr>\n",
       "    <tr>\n",
       "      <th>1</th>\n",
       "      <td>6</td>\n",
       "      <td>140</td>\n",
       "      <td>171483.0</td>\n",
       "      <td>3</td>\n",
       "      <td>3</td>\n",
       "      <td>3</td>\n",
       "      <td>333</td>\n",
       "      <td>CHAMPION</td>\n",
       "    </tr>\n",
       "    <tr>\n",
       "      <th>2</th>\n",
       "      <td>10</td>\n",
       "      <td>135</td>\n",
       "      <td>163618.0</td>\n",
       "      <td>3</td>\n",
       "      <td>3</td>\n",
       "      <td>3</td>\n",
       "      <td>333</td>\n",
       "      <td>CHAMPION</td>\n",
       "    </tr>\n",
       "    <tr>\n",
       "      <th>3</th>\n",
       "      <td>95</td>\n",
       "      <td>23</td>\n",
       "      <td>116350.0</td>\n",
       "      <td>2</td>\n",
       "      <td>3</td>\n",
       "      <td>3</td>\n",
       "      <td>233</td>\n",
       "      <td>LOYAL</td>\n",
       "    </tr>\n",
       "    <tr>\n",
       "      <th>4</th>\n",
       "      <td>4</td>\n",
       "      <td>152</td>\n",
       "      <td>124560.0</td>\n",
       "      <td>3</td>\n",
       "      <td>3</td>\n",
       "      <td>3</td>\n",
       "      <td>333</td>\n",
       "      <td>CHAMPION</td>\n",
       "    </tr>\n",
       "    <tr>\n",
       "      <th>...</th>\n",
       "      <td>...</td>\n",
       "      <td>...</td>\n",
       "      <td>...</td>\n",
       "      <td>...</td>\n",
       "      <td>...</td>\n",
       "      <td>...</td>\n",
       "      <td>...</td>\n",
       "      <td>...</td>\n",
       "    </tr>\n",
       "    <tr>\n",
       "      <th>62432</th>\n",
       "      <td>435</td>\n",
       "      <td>2</td>\n",
       "      <td>0.0</td>\n",
       "      <td>1</td>\n",
       "      <td>1</td>\n",
       "      <td>1</td>\n",
       "      <td>111</td>\n",
       "      <td>LOST CUSTOMER</td>\n",
       "    </tr>\n",
       "    <tr>\n",
       "      <th>62433</th>\n",
       "      <td>295</td>\n",
       "      <td>2</td>\n",
       "      <td>0.0</td>\n",
       "      <td>1</td>\n",
       "      <td>1</td>\n",
       "      <td>1</td>\n",
       "      <td>111</td>\n",
       "      <td>LOST CUSTOMER</td>\n",
       "    </tr>\n",
       "    <tr>\n",
       "      <th>62434</th>\n",
       "      <td>87</td>\n",
       "      <td>4</td>\n",
       "      <td>0.0</td>\n",
       "      <td>2</td>\n",
       "      <td>1</td>\n",
       "      <td>1</td>\n",
       "      <td>211</td>\n",
       "      <td>ABOUT TO SLEEP</td>\n",
       "    </tr>\n",
       "    <tr>\n",
       "      <th>62435</th>\n",
       "      <td>28</td>\n",
       "      <td>2</td>\n",
       "      <td>0.0</td>\n",
       "      <td>3</td>\n",
       "      <td>1</td>\n",
       "      <td>1</td>\n",
       "      <td>311</td>\n",
       "      <td>RECENT CUSTOMER</td>\n",
       "    </tr>\n",
       "    <tr>\n",
       "      <th>62436</th>\n",
       "      <td>398</td>\n",
       "      <td>2</td>\n",
       "      <td>0.0</td>\n",
       "      <td>1</td>\n",
       "      <td>1</td>\n",
       "      <td>1</td>\n",
       "      <td>111</td>\n",
       "      <td>LOST CUSTOMER</td>\n",
       "    </tr>\n",
       "  </tbody>\n",
       "</table>\n",
       "<p>62437 rows × 8 columns</p>\n",
       "</div>"
      ],
      "text/plain": [
       "       recency  frequency  monetary  recency_score  frequency_score  \\\n",
       "0            0        210  239560.0              3                3   \n",
       "1            6        140  171483.0              3                3   \n",
       "2           10        135  163618.0              3                3   \n",
       "3           95         23  116350.0              2                3   \n",
       "4            4        152  124560.0              3                3   \n",
       "...        ...        ...       ...            ...              ...   \n",
       "62432      435          2       0.0              1                1   \n",
       "62433      295          2       0.0              1                1   \n",
       "62434       87          4       0.0              2                1   \n",
       "62435       28          2       0.0              3                1   \n",
       "62436      398          2       0.0              1                1   \n",
       "\n",
       "       monetary_score  rfm_score     segment_name  \n",
       "0                   3        333         CHAMPION  \n",
       "1                   3        333         CHAMPION  \n",
       "2                   3        333         CHAMPION  \n",
       "3                   3        233            LOYAL  \n",
       "4                   3        333         CHAMPION  \n",
       "...               ...        ...              ...  \n",
       "62432               1        111    LOST CUSTOMER  \n",
       "62433               1        111    LOST CUSTOMER  \n",
       "62434               1        211   ABOUT TO SLEEP  \n",
       "62435               1        311  RECENT CUSTOMER  \n",
       "62436               1        111    LOST CUSTOMER  \n",
       "\n",
       "[62437 rows x 8 columns]"
      ]
     },
     "execution_count": 105,
     "metadata": {},
     "output_type": "execute_result"
    }
   ],
   "source": [
    "rfm"
   ]
  },
  {
   "cell_type": "markdown",
   "id": "7193c9c9-a3ef-4eda-b90e-aa90f02c8b6e",
   "metadata": {
    "jp-MarkdownHeadingCollapsed": true,
    "tags": []
   },
   "source": [
    "## Modeling RFM Score"
   ]
  },
  {
   "cell_type": "code",
   "execution_count": 109,
   "id": "c2819c35-6663-475e-919d-035887de88f1",
   "metadata": {},
   "outputs": [
    {
     "data": {
      "text/html": [
       "<div>\n",
       "<style scoped>\n",
       "    .dataframe tbody tr th:only-of-type {\n",
       "        vertical-align: middle;\n",
       "    }\n",
       "\n",
       "    .dataframe tbody tr th {\n",
       "        vertical-align: top;\n",
       "    }\n",
       "\n",
       "    .dataframe thead th {\n",
       "        text-align: right;\n",
       "    }\n",
       "</style>\n",
       "<table border=\"1\" class=\"dataframe\">\n",
       "  <thead>\n",
       "    <tr style=\"text-align: right;\">\n",
       "      <th></th>\n",
       "      <th>recency_score</th>\n",
       "      <th>frequency_score</th>\n",
       "      <th>monetary_score</th>\n",
       "    </tr>\n",
       "  </thead>\n",
       "  <tbody>\n",
       "    <tr>\n",
       "      <th>0</th>\n",
       "      <td>3</td>\n",
       "      <td>3</td>\n",
       "      <td>3</td>\n",
       "    </tr>\n",
       "    <tr>\n",
       "      <th>1</th>\n",
       "      <td>3</td>\n",
       "      <td>3</td>\n",
       "      <td>3</td>\n",
       "    </tr>\n",
       "    <tr>\n",
       "      <th>2</th>\n",
       "      <td>3</td>\n",
       "      <td>3</td>\n",
       "      <td>3</td>\n",
       "    </tr>\n",
       "    <tr>\n",
       "      <th>3</th>\n",
       "      <td>2</td>\n",
       "      <td>3</td>\n",
       "      <td>3</td>\n",
       "    </tr>\n",
       "    <tr>\n",
       "      <th>4</th>\n",
       "      <td>3</td>\n",
       "      <td>3</td>\n",
       "      <td>3</td>\n",
       "    </tr>\n",
       "    <tr>\n",
       "      <th>...</th>\n",
       "      <td>...</td>\n",
       "      <td>...</td>\n",
       "      <td>...</td>\n",
       "    </tr>\n",
       "    <tr>\n",
       "      <th>62432</th>\n",
       "      <td>1</td>\n",
       "      <td>1</td>\n",
       "      <td>1</td>\n",
       "    </tr>\n",
       "    <tr>\n",
       "      <th>62433</th>\n",
       "      <td>1</td>\n",
       "      <td>1</td>\n",
       "      <td>1</td>\n",
       "    </tr>\n",
       "    <tr>\n",
       "      <th>62434</th>\n",
       "      <td>2</td>\n",
       "      <td>1</td>\n",
       "      <td>1</td>\n",
       "    </tr>\n",
       "    <tr>\n",
       "      <th>62435</th>\n",
       "      <td>3</td>\n",
       "      <td>1</td>\n",
       "      <td>1</td>\n",
       "    </tr>\n",
       "    <tr>\n",
       "      <th>62436</th>\n",
       "      <td>1</td>\n",
       "      <td>1</td>\n",
       "      <td>1</td>\n",
       "    </tr>\n",
       "  </tbody>\n",
       "</table>\n",
       "<p>62437 rows × 3 columns</p>\n",
       "</div>"
      ],
      "text/plain": [
       "       recency_score  frequency_score  monetary_score\n",
       "0                  3                3               3\n",
       "1                  3                3               3\n",
       "2                  3                3               3\n",
       "3                  2                3               3\n",
       "4                  3                3               3\n",
       "...              ...              ...             ...\n",
       "62432              1                1               1\n",
       "62433              1                1               1\n",
       "62434              2                1               1\n",
       "62435              3                1               1\n",
       "62436              1                1               1\n",
       "\n",
       "[62437 rows x 3 columns]"
      ]
     },
     "execution_count": 109,
     "metadata": {},
     "output_type": "execute_result"
    }
   ],
   "source": [
    "rfm.iloc[:,3:6]"
   ]
  },
  {
   "cell_type": "code",
   "execution_count": 110,
   "id": "bd10687f-34f3-4478-ad5e-8d9e64e18290",
   "metadata": {},
   "outputs": [
    {
     "data": {
      "image/png": "[encoded data removed]",
      "text/plain": [
       "<Figure size 576x396 with 1 Axes>"
      ]
     },
     "metadata": {},
     "output_type": "display_data"
    }
   ],
   "source": [
    "from sklearn.cluster import KMeans\n",
    "SSE = []\n",
    "for k in range(0,10):\n",
    "    kmeans = KMeans(n_clusters=k+1,random_state=43).fit(rfm.iloc[:,3:6])\n",
    "    SSE.append(kmeans.inertia_)\n",
    "sns.pointplot(x=list(range(1,11)),y=SSE)\n",
    "plt.show()"
   ]
  },
  {
   "cell_type": "code",
   "execution_count": 111,
   "id": "0acb051b-ccbd-4354-ac28-62813af4c23d",
   "metadata": {},
   "outputs": [
    {
     "data": {
      "image/png": "[encoded data removed]",
      "text/plain": [
       "<Figure size 576x396 with 1 Axes>"
      ]
     },
     "metadata": {},
     "output_type": "display_data"
    },
    {
     "data": {
      "text/html": [
       "<style>#sk-container-id-3 {color: black;background-color: white;}#sk-container-id-3 pre{padding: 0;}#sk-container-id-3 div.sk-toggleable {background-color: white;}#sk-container-id-3 label.sk-toggleable__label {cursor: pointer;display: block;width: 100%;margin-bottom: 0;padding: 0.3em;box-sizing: border-box;text-align: center;}#sk-container-id-3 label.sk-toggleable__label-arrow:before {content: \"▸\";float: left;margin-right: 0.25em;color: #696969;}#sk-container-id-3 label.sk-toggleable__label-arrow:hover:before {color: black;}#sk-container-id-3 div.sk-estimator:hover label.sk-toggleable__label-arrow:before {color: black;}#sk-container-id-3 div.sk-toggleable__content {max-height: 0;max-width: 0;overflow: hidden;text-align: left;background-color: #f0f8ff;}#sk-container-id-3 div.sk-toggleable__content pre {margin: 0.2em;color: black;border-radius: 0.25em;background-color: #f0f8ff;}#sk-container-id-3 input.sk-toggleable__control:checked~div.sk-toggleable__content {max-height: 200px;max-width: 100%;overflow: auto;}#sk-container-id-3 input.sk-toggleable__control:checked~label.sk-toggleable__label-arrow:before {content: \"▾\";}#sk-container-id-3 div.sk-estimator input.sk-toggleable__control:checked~label.sk-toggleable__label {background-color: #d4ebff;}#sk-container-id-3 div.sk-label input.sk-toggleable__control:checked~label.sk-toggleable__label {background-color: #d4ebff;}#sk-container-id-3 input.sk-hidden--visually {border: 0;clip: rect(1px 1px 1px 1px);clip: rect(1px, 1px, 1px, 1px);height: 1px;margin: -1px;overflow: hidden;padding: 0;position: absolute;width: 1px;}#sk-container-id-3 div.sk-estimator {font-family: monospace;background-color: #f0f8ff;border: 1px dotted black;border-radius: 0.25em;box-sizing: border-box;margin-bottom: 0.5em;}#sk-container-id-3 div.sk-estimator:hover {background-color: #d4ebff;}#sk-container-id-3 div.sk-parallel-item::after {content: \"\";width: 100%;border-bottom: 1px solid gray;flex-grow: 1;}#sk-container-id-3 div.sk-label:hover label.sk-toggleable__label {background-color: #d4ebff;}#sk-container-id-3 div.sk-serial::before {content: \"\";position: absolute;border-left: 1px solid gray;box-sizing: border-box;top: 0;bottom: 0;left: 50%;z-index: 0;}#sk-container-id-3 div.sk-serial {display: flex;flex-direction: column;align-items: center;background-color: white;padding-right: 0.2em;padding-left: 0.2em;position: relative;}#sk-container-id-3 div.sk-item {position: relative;z-index: 1;}#sk-container-id-3 div.sk-parallel {display: flex;align-items: stretch;justify-content: center;background-color: white;position: relative;}#sk-container-id-3 div.sk-item::before, #sk-container-id-3 div.sk-parallel-item::before {content: \"\";position: absolute;border-left: 1px solid gray;box-sizing: border-box;top: 0;bottom: 0;left: 50%;z-index: -1;}#sk-container-id-3 div.sk-parallel-item {display: flex;flex-direction: column;z-index: 1;position: relative;background-color: white;}#sk-container-id-3 div.sk-parallel-item:first-child::after {align-self: flex-end;width: 50%;}#sk-container-id-3 div.sk-parallel-item:last-child::after {align-self: flex-start;width: 50%;}#sk-container-id-3 div.sk-parallel-item:only-child::after {width: 0;}#sk-container-id-3 div.sk-dashed-wrapped {border: 1px dashed gray;margin: 0 0.4em 0.5em 0.4em;box-sizing: border-box;padding-bottom: 0.4em;background-color: white;}#sk-container-id-3 div.sk-label label {font-family: monospace;font-weight: bold;display: inline-block;line-height: 1.2em;}#sk-container-id-3 div.sk-label-container {text-align: center;}#sk-container-id-3 div.sk-container {/* jupyter's `normalize.less` sets `[hidden] { display: none; }` but bootstrap.min.css set `[hidden] { display: none !important; }` so we also need the `!important` here to be able to override the default hidden behavior on the sphinx rendered scikit-learn.org. See: https://github.com/scikit-learn/scikit-learn/issues/21755 */display: inline-block !important;position: relative;}#sk-container-id-3 div.sk-text-repr-fallback {display: none;}</style><div id=\"sk-container-id-3\" class=\"sk-top-container\"><div class=\"sk-text-repr-fallback\"><pre>SilhouetteVisualizer(ax=&lt;AxesSubplot:title={&#x27;center&#x27;:&#x27;Silhouette Plot of KMeans Clustering for 62437 Samples in 3 Centers&#x27;}, xlabel=&#x27;silhouette coefficient values&#x27;, ylabel=&#x27;cluster label&#x27;&gt;,\n",
       "                     colors=&#x27;yellowbrick&#x27;,\n",
       "                     estimator=KMeans(n_clusters=3, random_state=43))</pre><b>In a Jupyter environment, please rerun this cell to show the HTML representation or trust the notebook. <br />On GitHub, the HTML representation is unable to render, please try loading this page with nbviewer.org.</b></div><div class=\"sk-container\" hidden><div class=\"sk-item sk-dashed-wrapped\"><div class=\"sk-label-container\"><div class=\"sk-label sk-toggleable\"><input class=\"sk-toggleable__control sk-hidden--visually\" id=\"sk-estimator-id-7\" type=\"checkbox\" ><label for=\"sk-estimator-id-7\" class=\"sk-toggleable__label sk-toggleable__label-arrow\">SilhouetteVisualizer</label><div class=\"sk-toggleable__content\"><pre>SilhouetteVisualizer(ax=&lt;AxesSubplot:title={&#x27;center&#x27;:&#x27;Silhouette Plot of KMeans Clustering for 62437 Samples in 3 Centers&#x27;}, xlabel=&#x27;silhouette coefficient values&#x27;, ylabel=&#x27;cluster label&#x27;&gt;,\n",
       "                     colors=&#x27;yellowbrick&#x27;,\n",
       "                     estimator=KMeans(n_clusters=3, random_state=43))</pre></div></div></div><div class=\"sk-parallel\"><div class=\"sk-parallel-item\"><div class=\"sk-item\"><div class=\"sk-label-container\"><div class=\"sk-label sk-toggleable\"><input class=\"sk-toggleable__control sk-hidden--visually\" id=\"sk-estimator-id-8\" type=\"checkbox\" ><label for=\"sk-estimator-id-8\" class=\"sk-toggleable__label sk-toggleable__label-arrow\">estimator: KMeans</label><div class=\"sk-toggleable__content\"><pre>KMeans(n_clusters=3, random_state=43)</pre></div></div></div><div class=\"sk-serial\"><div class=\"sk-item\"><div class=\"sk-estimator sk-toggleable\"><input class=\"sk-toggleable__control sk-hidden--visually\" id=\"sk-estimator-id-9\" type=\"checkbox\" ><label for=\"sk-estimator-id-9\" class=\"sk-toggleable__label sk-toggleable__label-arrow\">KMeans</label><div class=\"sk-toggleable__content\"><pre>KMeans(n_clusters=3, random_state=43)</pre></div></div></div></div></div></div></div></div></div></div>"
      ],
      "text/plain": [
       "SilhouetteVisualizer(ax=<AxesSubplot:title={'center':'Silhouette Plot of KMeans Clustering for 62437 Samples in 3 Centers'}, xlabel='silhouette coefficient values', ylabel='cluster label'>,\n",
       "                     colors='yellowbrick',\n",
       "                     estimator=KMeans(n_clusters=3, random_state=43))"
      ]
     },
     "execution_count": 111,
     "metadata": {},
     "output_type": "execute_result"
    }
   ],
   "source": [
    "from yellowbrick.cluster import silhouette_visualizer\n",
    "silhouette_visualizer(KMeans(3, random_state=43), rfm.iloc[:,3:6], colors='yellowbrick')"
   ]
  },
  {
   "cell_type": "code",
   "execution_count": 114,
   "id": "c7fe2d5c-5042-42cb-a4b8-35cc9c012f33",
   "metadata": {},
   "outputs": [
    {
     "data": {
      "text/plain": [
       "<mpl_toolkits.mplot3d.art3d.Path3DCollection at 0x1fd83808a90>"
      ]
     },
     "execution_count": 114,
     "metadata": {},
     "output_type": "execute_result"
    },
    {
     "data": {
      "image/png": "[encoded data removed]",
      "text/plain": [
       "<Figure size 576x396 with 1 Axes>"
      ]
     },
     "metadata": {},
     "output_type": "display_data"
    }
   ],
   "source": [
    "model = KMeans(n_clusters=3,random_state=43).fit(rfm.iloc[:,3:6])\n",
    "centers = model.cluster_centers_\n",
    "fig = plt.figure()\n",
    "ax = fig.add_subplot(111,projection='3d')\n",
    "ax.scatter(rfm['recency_score'],rfm['frequency_score'],rfm['monetary_score'],\n",
    "           c=model.predict(rfm.iloc[:,3:6]),cmap='brg')\n",
    "ax.scatter(centers[:,0],centers[:,1],c='black')"
   ]
  },
  {
   "cell_type": "code",
   "execution_count": 115,
   "id": "c1c8725b-29de-4cd4-a92c-43e4cc9388bb",
   "metadata": {},
   "outputs": [
    {
     "data": {
      "text/plain": [
       "<function matplotlib.pyplot.legend(*args, **kwargs)>"
      ]
     },
     "execution_count": 115,
     "metadata": {},
     "output_type": "execute_result"
    },
    {
     "data": {
      "image/png": "[encoded data removed]",
      "text/plain": [
       "<Figure size 576x396 with 1 Axes>"
      ]
     },
     "metadata": {},
     "output_type": "display_data"
    }
   ],
   "source": [
    "rfm['cluster'] = model.labels_\n",
    "melted_rfm = pd.melt(rfm.reset_index(),\n",
    "                     id_vars = ['cluster'],\n",
    "                    value_vars = ['recency_score','frequency_score','monetary_score'],\n",
    "                    var_name = 'Features',value_name='Value')\n",
    "sns.lineplot('Features','Value',hue='cluster',data=melted_rfm)\n",
    "plt.legend"
   ]
  },
  {
   "cell_type": "code",
   "execution_count": 116,
   "id": "df24569d-fc4b-4df3-a678-f53b7d86ec94",
   "metadata": {},
   "outputs": [
    {
     "data": {
      "text/html": [
       "<div>\n",
       "<style scoped>\n",
       "    .dataframe tbody tr th:only-of-type {\n",
       "        vertical-align: middle;\n",
       "    }\n",
       "\n",
       "    .dataframe tbody tr th {\n",
       "        vertical-align: top;\n",
       "    }\n",
       "\n",
       "    .dataframe thead tr th {\n",
       "        text-align: left;\n",
       "    }\n",
       "\n",
       "    .dataframe thead tr:last-of-type th {\n",
       "        text-align: right;\n",
       "    }\n",
       "</style>\n",
       "<table border=\"1\" class=\"dataframe\">\n",
       "  <thead>\n",
       "    <tr>\n",
       "      <th></th>\n",
       "      <th colspan=\"3\" halign=\"left\">recency</th>\n",
       "      <th colspan=\"3\" halign=\"left\">frequency</th>\n",
       "      <th colspan=\"4\" halign=\"left\">monetary</th>\n",
       "    </tr>\n",
       "    <tr>\n",
       "      <th></th>\n",
       "      <th>mean</th>\n",
       "      <th>min</th>\n",
       "      <th>max</th>\n",
       "      <th>mean</th>\n",
       "      <th>min</th>\n",
       "      <th>max</th>\n",
       "      <th>mean</th>\n",
       "      <th>min</th>\n",
       "      <th>max</th>\n",
       "      <th>count</th>\n",
       "    </tr>\n",
       "    <tr>\n",
       "      <th>cluster</th>\n",
       "      <th></th>\n",
       "      <th></th>\n",
       "      <th></th>\n",
       "      <th></th>\n",
       "      <th></th>\n",
       "      <th></th>\n",
       "      <th></th>\n",
       "      <th></th>\n",
       "      <th></th>\n",
       "      <th></th>\n",
       "    </tr>\n",
       "  </thead>\n",
       "  <tbody>\n",
       "    <tr>\n",
       "      <th>0</th>\n",
       "      <td>62.97162</td>\n",
       "      <td>0</td>\n",
       "      <td>603</td>\n",
       "      <td>24.709128</td>\n",
       "      <td>5</td>\n",
       "      <td>213</td>\n",
       "      <td>11694.443544</td>\n",
       "      <td>1477.0</td>\n",
       "      <td>239560.0</td>\n",
       "      <td>21353</td>\n",
       "    </tr>\n",
       "    <tr>\n",
       "      <th>1</th>\n",
       "      <td>73.97291</td>\n",
       "      <td>0</td>\n",
       "      <td>187</td>\n",
       "      <td>6.302534</td>\n",
       "      <td>2</td>\n",
       "      <td>65</td>\n",
       "      <td>1273.443760</td>\n",
       "      <td>0.0</td>\n",
       "      <td>38555.0</td>\n",
       "      <td>21115</td>\n",
       "    </tr>\n",
       "    <tr>\n",
       "      <th>2</th>\n",
       "      <td>389.61951</td>\n",
       "      <td>44</td>\n",
       "      <td>729</td>\n",
       "      <td>4.184836</td>\n",
       "      <td>2</td>\n",
       "      <td>39</td>\n",
       "      <td>2893.154254</td>\n",
       "      <td>0.0</td>\n",
       "      <td>66634.0</td>\n",
       "      <td>19969</td>\n",
       "    </tr>\n",
       "  </tbody>\n",
       "</table>\n",
       "</div>"
      ],
      "text/plain": [
       "           recency           frequency               monetary          \\\n",
       "              mean min  max       mean min  max          mean     min   \n",
       "cluster                                                                 \n",
       "0         62.97162   0  603  24.709128   5  213  11694.443544  1477.0   \n",
       "1         73.97291   0  187   6.302534   2   65   1273.443760     0.0   \n",
       "2        389.61951  44  729   4.184836   2   39   2893.154254     0.0   \n",
       "\n",
       "                          \n",
       "              max  count  \n",
       "cluster                   \n",
       "0        239560.0  21353  \n",
       "1         38555.0  21115  \n",
       "2         66634.0  19969  "
      ]
     },
     "execution_count": 116,
     "metadata": {},
     "output_type": "execute_result"
    }
   ],
   "source": [
    "rfm.groupby('cluster').agg({'recency':['mean','min','max'],'frequency':['mean','min','max']\n",
    "                             ,'monetary':['mean','min','max','count']\n",
    "})"
   ]
  },
  {
   "cell_type": "markdown",
   "id": "57d5745c-8f70-40cb-8a8f-5187d515c11d",
   "metadata": {},
   "source": [
    "**Business Insight**\n",
    "\n",
    "    1. Cluster : 0\n",
    "        Category : Best Customer\n",
    "        RFM Characteristics: Frequent and recent customers with heavy spendings\n",
    "        Action : Offering new product to them\n",
    "    2. Cluster : 1\n",
    "        Category : Average Customer\n",
    "        RFM Characteristics : Recent customer with low frequent and spendings\n",
    "        Action : Develope customer relationship management to enchance shoping experience\n",
    "    3. Cluster : 2\n",
    "        Category : Risk to Churn Customer\n",
    "        RFM Characteristics : Customer with high frequent and spendings. It has been long time since last transaction\n",
    "        Action  : Research why they don't transaction with long time. Customized marketing plans to encouraging purchase again."
   ]
  }
 ],
 "metadata": {
  "kernelspec": {
   "display_name": "Python 3 (ipykernel)",
   "language": "python",
   "name": "python3"
  },
  "language_info": {
   "codemirror_mode": {
    "name": "ipython",
    "version": 3
   },
   "file_extension": ".py",
   "mimetype": "text/x-python",
   "name": "python",
   "nbconvert_exporter": "python",
   "pygments_lexer": "ipython3",
   "version": "3.9.7"
  }
 },
 "nbformat": 4,
 "nbformat_minor": 5
}
